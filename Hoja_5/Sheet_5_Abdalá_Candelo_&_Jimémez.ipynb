{
 "cells": [
  {
   "cell_type": "markdown",
   "metadata": {},
   "source": [
    "***SHEET 5***\n",
    "\n",
    "\n",
    "CARLOS FAROUK ABDALÁ RINCÓN\n",
    "\n",
    "TOMAS CANDEO MONTOYA\n",
    "\n",
    "GABRIEL DAVID JIMÉNEZ MOSQUERA"
   ]
  }
 ],
 "metadata": {
  "language_info": {
   "name": "python"
  }
 },
 "nbformat": 4,
 "nbformat_minor": 2
}
