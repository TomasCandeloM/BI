{
 "cells": [
  {
   "cell_type": "markdown",
   "metadata": {},
   "source": [
    "***SHEET 5***\n",
    "\n",
    "\n",
    "CARLOS FAROUK ABDALÁ RINCÓN\n",
    "\n",
    "TOMAS CANDEO MONTOYA\n",
    "\n",
    "GABRIEL DAVID JIMÉNEZ MOSQUERA"
   ]
  },
  {
   "cell_type": "code",
   "execution_count": 28,
   "metadata": {},
   "outputs": [],
   "source": [
    "#IMPORTS\n",
    "import numpy as np\n",
    "import random\n",
    "import math\n",
    "import pandas as pd\n",
    "import matplotlib.pyplot as plt\n",
    "#import requests as rq\n",
    "import itertools\n",
    "from scipy.spatial.distance import pdist, squareform\n",
    "from tqdm import tqdm\n",
    "from time import sleep\n",
    "from sklearn.cluster import KMeans, DBSCAN"
   ]
  },
  {
   "cell_type": "markdown",
   "metadata": {},
   "source": [
    "### UTILS"
   ]
  },
  {
   "cell_type": "code",
   "execution_count": 29,
   "metadata": {},
   "outputs": [],
   "source": [
    "def kMeans(D,k,eps=0.01,mu=None,max_iter=20):\n",
    " d=D.shape[1]\n",
    " if mu is None:\n",
    "  mu=np.random.rand(k,d)*(np.max(D,axis=0)-np.min(D,axis=0))+np.min(D,axis=0)\n",
    " if type(mu)==list:\n",
    "  mu=np.array(mu)\n",
    " s=False\n",
    " g=0\n",
    " while not s:\n",
    "  C=[np.argmin([np.linalg.norm(mu[j]-x)for j in range(k)if not any(np.isnan(mu[j]))])for x in D]\n",
    "  n=np.zeros(mu.shape)\n",
    "  s=True\n",
    "  for i in range(k):\n",
    "   J=[D[j]for j in range(len(D))if C[j]==i]\n",
    "   if len(J)>0:\n",
    "    n[i]=np.mean(J,axis=0)\n",
    "   else:\n",
    "    n[i]=np.random.rand(1,d)*(np.max(D,axis=0)-np.min(D,axis=0))+np.min(D,axis=0)\n",
    "   if np.linalg.norm(mu[i]-n[i])>eps:\n",
    "    s=False\n",
    "  mu=n\n",
    "  g+=1\n",
    "  if g>=max_iter:\n",
    "   s=True\n",
    " return C,mu"
   ]
  },
  {
   "cell_type": "code",
   "execution_count": 30,
   "metadata": {},
   "outputs": [],
   "source": [
    "def DBSCAN (D, epsilon, minpts):\n",
    "    \n",
    "    def Density_Connected(x, k):\n",
    "        for _,neighbor_index in enumerate(Ne(x, D, epsilon)):\n",
    "            if id[neighbor_index] == 0 or id[neighbor_index] == -1:\n",
    "                id[neighbor_index] = k\n",
    "                if any((D[neighbor_index] == core_point).all() for core_point in core_points):\n",
    "                    Density_Connected(D[neighbor_index], k)\n",
    "    \n",
    "    k = 0 # cluster id\n",
    "    id  = np.array([-1]*len(D)) # cluster id\n",
    "    core_points = []\n",
    "    noise_points = []\n",
    "    border_points = []\n",
    "\n",
    "    for index, point in enumerate(D):\n",
    "        neighborhood = Ne(point, D, epsilon)\n",
    "        if len(neighborhood) >= minpts:\n",
    "            id[index]=0\n",
    "            core_points.append(point)\n",
    "    index_in_list=0\n",
    "\n",
    "    for index, point in enumerate(D):\n",
    "        if id[index] == 0:\n",
    "            k += 1\n",
    "            id[index] = k\n",
    "            Density_Connected(point, k)\n",
    "        index_in_list+=1\n",
    "\n",
    "    clusters = {i+1: {tuple(D[j]) for j in range(len(D)) if id[j] == i+1} for i in range(k)}\n",
    "    noise_points = [tuple(D[j]) for j in range(len(D)) if id[j] == -1]\n",
    "    border_points = {tuple(D[j]) for j in range(len(D)) if any((D[j] == core_point).all() for core_point in core_points) and any((D[j] == noise_point).all() for noise_point in noise_points)}  \n",
    "    return clusters, core_points, noise_points, border_points, id\n",
    "\n",
    "def Ne (xi, D, epsilon):\n",
    "    ne = []\n",
    "    for point_index, xj in enumerate(D):\n",
    "        if (np.linalg.norm(xi-xj) <= epsilon):\n",
    "            ne.append(point_index)\n",
    "    return ne \n"
   ]
  },
  {
   "cell_type": "markdown",
   "metadata": {},
   "source": [
    "### EXERCISE 1\n",
    "\n",
    "#### EXERCISE 1.1"
   ]
  },
  {
   "cell_type": "code",
   "execution_count": 31,
   "metadata": {},
   "outputs": [],
   "source": [
    "\n",
    "def getDistances(A):  \n",
    "    pairwise_distances = pdist(A, metric='euclidean')\n",
    "    distance_matrix = squareform(pairwise_distances)\n",
    "    return distance_matrix\n"
   ]
  },
  {
   "cell_type": "markdown",
   "metadata": {},
   "source": [
    "#### EXERCISE 1.2"
   ]
  },
  {
   "cell_type": "code",
   "execution_count": 32,
   "metadata": {},
   "outputs": [],
   "source": [
    "def getW(D,U,V):\n",
    "    acum_sum=0\n",
    "    for _,index_u in enumerate(U):\n",
    "        for _,index_v in enumerate(V):\n",
    "            acum_sum+=(D[index_u][index_v])\n",
    "    return acum_sum\n"
   ]
  },
  {
   "cell_type": "markdown",
   "metadata": {},
   "source": [
    "#### EXERCISE 1.3"
   ]
  },
  {
   "cell_type": "code",
   "execution_count": 33,
   "metadata": {},
   "outputs": [],
   "source": [
    "def getWIn(D, C):\n",
    "    n = len(C)\n",
    "    acum_sum = 0\n",
    "    for i in range(n):\n",
    "        for j in range(n):\n",
    "            if C[i] == C[j]:\n",
    "                acum_sum += D[i][j]\n",
    "    return acum_sum/2"
   ]
  },
  {
   "cell_type": "code",
   "execution_count": 34,
   "metadata": {},
   "outputs": [],
   "source": [
    "def getWOut(D, C):\n",
    "    n = len(C)\n",
    "    acum_sum = 0\n",
    "    for i in range(n):\n",
    "        for j in range(n):\n",
    "            if C[i] != C[j]:\n",
    "                acum_sum += D[i][j]\n",
    "    return acum_sum/2"
   ]
  },
  {
   "cell_type": "code",
   "execution_count": 35,
   "metadata": {},
   "outputs": [],
   "source": [
    "def getNIn(C):\n",
    "    n = len(C)\n",
    "    acum_sum = 0\n",
    "    for i in range(n):\n",
    "        for j in range(n):\n",
    "            if i != j:\n",
    "                if C[i] == C[j]:\n",
    "                    acum_sum += 1\n",
    "    return acum_sum/2\n",
    "    "
   ]
  },
  {
   "cell_type": "code",
   "execution_count": 36,
   "metadata": {},
   "outputs": [],
   "source": [
    "def getNOut(C):\n",
    "    n = len(C)\n",
    "    acum_sum = 0\n",
    "    for i in range(n):\n",
    "        for j in range(n):\n",
    "            if i != j:\n",
    "                if C[i] != C[j]:\n",
    "                    acum_sum += 1\n",
    "    return acum_sum/2"
   ]
  },
  {
   "cell_type": "code",
   "execution_count": 37,
   "metadata": {},
   "outputs": [
    {
     "name": "stdout",
     "output_type": "stream",
     "text": [
      "<class 'pandas.core.frame.DataFrame'>\n",
      "\n",
      "Test Weight Measures\n",
      "------------------\n",
      "W: ok\n",
      "WIn: ok\n",
      "WOut: ok\n",
      "NIn: ok\n",
      "NOut: ok\n"
     ]
    }
   ],
   "source": [
    "# Test weight\n",
    "\n",
    "import pandas as pd_test\n",
    "import numpy as np_test\n",
    "\n",
    "dfIrisTest = pd_test.read_csv(\"https://raw.githubusercontent.com/uiuc-cse/data-fa14/gh-pages/data/iris.csv\")\n",
    "A_Iris_Test = dfIrisTest[dfIrisTest.columns[:4]].astype(float)\n",
    "C_Iris_Test = dfIrisTest[dfIrisTest.columns[4]]\n",
    "print(type(A_Iris_Test))\n",
    "D_Iris_Test = getDistances(A_Iris_Test)\n",
    "clusters = np.where(C_Iris_Test == 'setosa')[0]\n",
    "C2 = np.where(C_Iris_Test == 'versicolor')[0]\n",
    "C3 = np.where(C_Iris_Test == 'virginica')[0]\n",
    "CList = [clusters, C2, C3]\n",
    "\n",
    "print (\"\\nTest Weight Measures\\n------------------\")\n",
    "expectedW = {\n",
    "    (0,1): 8246,\n",
    "    (0,2): 12056,\n",
    "    (1,2): 4606\n",
    "}\n",
    "wSummary = \"W: \"\n",
    "wFailed = False\n",
    "for i in range(3):\n",
    "    for j in range(i):\n",
    "        p1 = (i,j)\n",
    "        p2 = (j,i)\n",
    "        W1 = np_test.round(getW(D_Iris_Test, CList[i], CList[j]))\n",
    "        W2 = np_test.round(getW(D_Iris_Test, CList[j], CList[i]))\n",
    "        if W1 != W2:\n",
    "            if not wFailed:\n",
    "                wSummary += \"failed\"\n",
    "            wSummary += \"\\n\\tasymmetry of W: \" + str(W1) + \" != \" + str(W2)\n",
    "            wFailed = True\n",
    "        \n",
    "        if W1 != expectedW[p2]:\n",
    "            if not wFailed:\n",
    "                wSummary += \"failed\"\n",
    "            wSummary += \"\\n\\tunexpected value of W: \" + str(W1) + \" instead of expected \" + str(expectedW[p2])\n",
    "            wFailed = True\n",
    "if not wFailed:\n",
    "    wSummary += \"ok\"\n",
    "print(wSummary)\n",
    "expectedWIn = 3518\n",
    "expectedWOut = 24908\n",
    "expectedNIn = 3675\n",
    "expectedNOut = 7500\n",
    "print(\"WIn:\", \"ok\" if np_test.abs(np_test.round(getWIn(D_Iris_Test, C_Iris_Test)) - expectedWIn) < 2 else \"failed\")\n",
    "print(\"WOut:\", \"ok\" if np_test.abs(np_test.round(getWOut(D_Iris_Test, C_Iris_Test)) - expectedWOut) < 2 else \"failed\")\n",
    "print(\"NIn:\", \"ok\" if getNIn(C_Iris_Test) == 3675 else \"failed\")\n",
    "print(\"NOut:\", \"ok\" if getNOut(C_Iris_Test) == 7500 else \"failed\")"
   ]
  },
  {
   "cell_type": "markdown",
   "metadata": {},
   "source": [
    "#### EXERCISE 1.4"
   ]
  },
  {
   "cell_type": "code",
   "execution_count": 38,
   "metadata": {},
   "outputs": [],
   "source": [
    "def getBetaCV(A,C):\n",
    "    D=getDistances(A)\n",
    "    W_in=getWIn(D,C)\n",
    "    N_in=getNIn(C)\n",
    "    W_out=getWOut(D,C)\n",
    "    N_out=getNOut(C)\n",
    "    betaCV_value= (W_in/N_in)/(W_out/N_out)\n",
    "    return betaCV_value\n"
   ]
  },
  {
   "cell_type": "code",
   "execution_count": 39,
   "metadata": {},
   "outputs": [],
   "source": [
    "def getCIndex(A,C):\n",
    "    D=getDistances(A)\n",
    "    W_in=getWIn(D,C)\n",
    "    N_in=getNIn(C)\n",
    "    values=[]\n",
    "    rows,columns=D.shape\n",
    "    \n",
    "    for index_row in range(rows):\n",
    "        for index_column in range(columns):\n",
    "            if index_row<index_column:\n",
    "                values.append(D[index_row][index_column])\n",
    "    values_order_upward=np.sort(values)\n",
    "    values_order_downward=values_order_upward[::-1]\n",
    "    W_min=0\n",
    "    W_max=0\n",
    "    for index in range(int(N_in)):\n",
    "        W_min+=values_order_upward[index]\n",
    "        W_max+=values_order_downward[index]\n",
    "    C_index=(W_in-W_min)/(W_max-W_min)\n",
    "    return C_index\n"
   ]
  },
  {
   "cell_type": "code",
   "execution_count": 40,
   "metadata": {},
   "outputs": [],
   "source": [
    "def getNormalizedCut(A, C):\n",
    "    k=len(set(C))\n",
    "    D=getDistances(A)\n",
    "    categories=np.unique(C)\n",
    "    normalizedCut=0\n",
    "    index_groups = [[] for _ in range(k)]\n",
    "    for index in range(len(C)):\n",
    "        for index_category,category in enumerate(categories):\n",
    "            if(C[index]==category):\n",
    "                index_groups[index_category].append(index)\n",
    "\n",
    "    for index_cluster in range(len(index_groups)):\n",
    "        rest_index=[]\n",
    "        for index_rest in range (len(index_groups)):\n",
    "            if (index_cluster!=index_rest):\n",
    "                rest_index=rest_index+index_groups[index_rest]\n",
    "        value_up=getW(D,index_groups[index_cluster],rest_index)\n",
    "        value_down=getW(D,index_groups[index_cluster],index_groups[index_cluster])+value_up\n",
    "        normalizedCut+=(value_up/value_down)\n",
    "    return normalizedCut"
   ]
  },
  {
   "cell_type": "code",
   "execution_count": 41,
   "metadata": {},
   "outputs": [],
   "source": [
    "def getDunn(A,C):\n",
    "    D = getDistances(A)\n",
    "    n = len(C)\n",
    "    min_out = float('inf')\n",
    "    max_in = 0\n",
    "    for i in range(n):\n",
    "        for j in range(n):\n",
    "            if C[i] != C[j]:\n",
    "                out_distance = D[i][j]\n",
    "                if out_distance < min_out:\n",
    "                    min_out = out_distance\n",
    "                    \n",
    "    for i in range(n):\n",
    "        for j in range(n):\n",
    "            if C[i] == C[j]:\n",
    "                in_distance = D[i][j]\n",
    "                if in_distance > max_in:\n",
    "                    max_in = in_distance\n",
    "    dunn = min_out / max_in\n",
    "    return dunn"
   ]
  },
  {
   "cell_type": "code",
   "execution_count": 42,
   "metadata": {},
   "outputs": [],
   "source": [
    "def getDaviesBouldin(A, C):\n",
    "    k=len(set(C))\n",
    "    categories=np.unique(C)\n",
    "    daviesBouldin=[]\n",
    "    index_groups = [[] for _ in range(k)]\n",
    "\n",
    "    for index in range(len(C)):\n",
    "        for index_category,category in enumerate(categories):\n",
    "            if(C[index]==category):\n",
    "                index_groups[index_category].append(np.array(A)[index])\n",
    "\n",
    "    for index_cluster,cluster in enumerate(index_groups):\n",
    "        daviesBouldin_for_cluster=[]\n",
    "        desv_i=np.std(cluster,axis=0)\n",
    "        desv_i= np.linalg.norm(desv_i)\n",
    "        mean_i=np.mean(cluster,axis=0)\n",
    "\n",
    "        for index_cluster_rest,cluster_rest in enumerate(index_groups):\n",
    "            daviesBouldin_value=0\n",
    "            if(index_cluster!=index_cluster_rest):\n",
    "                desv_j=np.std(cluster_rest,axis=0)\n",
    "                desv_j= np.linalg.norm(desv_j)\n",
    "                mean_j=np.mean(cluster_rest,axis=0)\n",
    "                distance_means=np.linalg.norm(mean_i-mean_j)\n",
    "                daviesBouldin_value+=(desv_i+desv_j)/distance_means\n",
    "                daviesBouldin_for_cluster.append(daviesBouldin_value)\n",
    "        daviesBouldin.append(max(daviesBouldin_for_cluster))\n",
    "        \n",
    "    daviesBouldin_final=sum(daviesBouldin)/k\n",
    "    return daviesBouldin_final  "
   ]
  },
  {
   "cell_type": "code",
   "execution_count": 43,
   "metadata": {},
   "outputs": [],
   "source": [
    "def getSilhouette(A,C):\n",
    "    k=len(set(C))\n",
    "    categories=np.unique(C)\n",
    "    SC_list=[]\n",
    "    index_groups = [[] for _ in range(k)]\n",
    "\n",
    "    for index in range(len(C)):\n",
    "        for index_category,category in enumerate(categories):\n",
    "            if(C[index]==category):\n",
    "                index_groups[index_category].append(np.array(A)[index])\n",
    "    \n",
    "    for principal_index,principal_cluster in enumerate(index_groups):\n",
    "        for i,selected_point in enumerate(principal_cluster):\n",
    "            Si_value=0\n",
    "            difference_different_cluster=[]\n",
    "\n",
    "            for analized_index,cluster_analized in enumerate(index_groups):\n",
    "                if (principal_index==analized_index):\n",
    "                    distance_points_same_cluster=0\n",
    "                    for j,another_point in enumerate(principal_cluster):\n",
    "                        if(i!=j):\n",
    "                            distance_points_same_cluster+=np.linalg.norm(selected_point-another_point)\n",
    "                        if((len(principal_cluster))!=1):\n",
    "                            mean_diference_same_cluster=distance_points_same_cluster/(len(principal_cluster)-1)\n",
    "                        else:\n",
    "                            mean_diference_same_cluster=0\n",
    "                else:\n",
    "                    distance_points_different_cluster=0\n",
    "                    for j,another_point in enumerate(cluster_analized):\n",
    "                        distance_points_different_cluster+=np.linalg.norm(selected_point-another_point)\n",
    "                    mean_diference_different_cluster=distance_points_different_cluster/(len(principal_cluster))\n",
    "                    difference_different_cluster.append(mean_diference_different_cluster)\n",
    "\n",
    "            Si_value=(min(difference_different_cluster)-mean_diference_same_cluster)/(max([min(difference_different_cluster),mean_diference_same_cluster]))\n",
    "            SC_list.append(Si_value)\n",
    "            \n",
    "    SC=(sum(SC_list)/len(SC_list))\n",
    "    return(SC)"
   ]
  },
  {
   "cell_type": "code",
   "execution_count": 44,
   "metadata": {},
   "outputs": [],
   "source": [
    "def getMetric(A, C, metric):\n",
    "    if metric == \"beta\":\n",
    "        return getBetaCV(A, C)\n",
    "    elif metric == \"cindex\":\n",
    "        return getCIndex(A, C)\n",
    "    elif metric == \"nc\":\n",
    "        return getNormalizedCut(A, C)\n",
    "    elif metric == \"dunn\":\n",
    "        return getDunn(A, C)\n",
    "    elif metric == \"db\":\n",
    "        return getDaviesBouldin(A, C)\n",
    "    elif metric == \"sil\":\n",
    "        return getSilhouette(A, C)\n",
    "    else:\n",
    "        return \"metrica invalida\""
   ]
  },
  {
   "cell_type": "code",
   "execution_count": 45,
   "metadata": {},
   "outputs": [
    {
     "name": "stdout",
     "output_type": "stream",
     "text": [
      "\n",
      "Test Metrics\n",
      "------------------\n"
     ]
    },
    {
     "name": "stdout",
     "output_type": "stream",
     "text": [
      "beta:\t ok\n",
      "cindex:\t ok\n",
      "nc:\t ok\n",
      "dunn:\t ok\n",
      "db:\t ok\n",
      "sil:\t ok\n"
     ]
    }
   ],
   "source": [
    "# Test weights\n",
    "import pandas as pd_test\n",
    "import numpy as np_test\n",
    "dfIrisTest = pd_test.read_csv(\"https://raw.githubusercontent.com/uiuc-cse/data-fa14/gh-pages/data/iris.csv\")\n",
    "A_Iris_Test = dfIrisTest[dfIrisTest.columns[:4]].astype(float)\n",
    "C_Iris_Test = dfIrisTest[dfIrisTest.columns[4]]\n",
    "D_Iris_Test = getDistances(A_Iris_Test)\n",
    "\n",
    "# Test metrics\n",
    "print (\"\\nTest Metrics\\n------------------\")\n",
    "expected = {\n",
    "    \"beta\": 0.2882861014913346,\n",
    "    \"cindex\": 0.046803774122703735,\n",
    "    \"nc\": 2.6150343040385264,\n",
    "    \"dunn\": 0.05848053214719304,\n",
    "    \"db\": 0.8445815484442534,\n",
    "    \"sil\": 0.5032506980665507\n",
    "}\n",
    "for metric in expected:\n",
    "    e = np.round(expected[metric], 2)\n",
    "    a = getMetric(A_Iris_Test, C_Iris_Test, metric)\n",
    "    a = np.round(a, 2) if not a is None else None\n",
    "    print(metric + \":\\t\", \"ok\" if e == a else \"failed. Expected \" + str(e) + \" but saw \" + str(a))"
   ]
  },
  {
   "cell_type": "markdown",
   "metadata": {},
   "source": [
    "### EXERCISE 2\n",
    "\n",
    "#### EXERCISE 2.1"
   ]
  },
  {
   "cell_type": "code",
   "execution_count": 46,
   "metadata": {},
   "outputs": [],
   "source": [
    "# plot metrics for kmeans and dbscan \n",
    "\n",
    "def plotMetrics(D, l, kmeans_eps, dbscan_configs):\n",
    "    D = pd.DataFrame(D)\n",
    "    D = D.values\n",
    "    l = 100 \n",
    "    metrics = [\"beta\", \"cindex\", \"nc\", \"dunn\", \"db\", \"sil\"]\n",
    "    \n",
    "    k_values = [2, 3, 4, 5]\n",
    "    kmeans_metrics = {m: [] for m in metrics}\n",
    "    dbscan_metrics = {m: [] for m in metrics}\n",
    "    for i in range(l):\n",
    "        for k in range(2, 6):\n",
    "            C, _ = kMeans(D, k, kmeans_eps)\n",
    "            for m in metrics:\n",
    "                kmeans_metrics[m].append(getMetric(D, C, m))\n",
    "        for e, m in dbscan_configs:\n",
    "            print(e,m)\n",
    "            _, _, _, _, C = DBSCAN(D, e, m)\n",
    "            for m in metrics:\n",
    "                dbscan_metrics[m].append(getMetric(D, C, m))\n",
    "    \n",
    "    for i, m in enumerate(metrics):\n",
    "        fig, ax = plt.subplots(figsize=(10, 6))\n",
    "        ax.set_title(m)\n",
    "\n",
    "        # box plots for kmeans\n",
    "        ax.boxplot([kmeans_metrics[m][i:i+4] for i in range(0, len(kmeans_metrics[m]), 4)], positions=k_values, widths=0.6, patch_artist=True, boxprops=dict(facecolor=\"lightblue\"))\n",
    "\n",
    "        # plot horizontal lines for dbscan metrics\n",
    "        for e, m in dbscan_configs:\n",
    "            ax.axhline(y=getMetric(D, C, m), color=\"orange\", linestyle=\"--\", label=\"DBSCAN \" + str(e) + \" \" + m)\n",
    "\n",
    "        ax.legend()\n",
    "        ax.set_xticks(k_values)\n",
    "        ax.set_xticklabels(k_values)\n",
    "        plt.xticks(rotation=45)\n",
    "\n",
    "        plt.tight_layout()\n",
    "        plt.show()\n",
    "\n",
    "        "
   ]
  },
  {
   "cell_type": "code",
   "execution_count": 51,
   "metadata": {},
   "outputs": [],
   "source": [
    "def plotMetrics1(D, l, kmeans_eps, dbscan_configs):\n",
    "    print(\"PLOT METRICS 1\")\n",
    "    D = pd.DataFrame(D)\n",
    "    D = D.values\n",
    "    l = 10\n",
    "    metrics = [\"beta\", \"cindex\", \"nc\", \"dunn\", \"db\", \"sil\"]\n",
    "    k_values = [2, 3, 4, 5]\n",
    "    kmeans_metrics = {metric: {k: [] for k in k_values} for metric in metrics}\n",
    "    dbscan_metrics = {metric: [] for metric in metrics}\n",
    "\n",
    "    for iteration in tqdm(range(l),desc=\"Iteraciones\"):\n",
    "        for k_value in k_values:\n",
    "            kmeans = KMeans(n_clusters=k_value, tol=kmeans_eps)\n",
    "            C = kmeans.fit_predict(D)\n",
    "            for metric in metrics:\n",
    "                kmeans_metrics[metric][k_value].append(getMetric(D, C, metric))\n",
    "        for min_pts,e in dbscan_configs:\n",
    "            _,_,_,_, C = DBSCAN(D, e, min_pts)\n",
    "            for index,metric in enumerate(metrics):\n",
    "                dbscan_metrics[metric].append(getMetric(D, C, metric))\n",
    "    \n",
    "    positions_of_boxplot = [[len(k_values) * 0.5 / len(k_values) * (i + 1) + 0.2 * i] for i in range(len(k_values))]\n",
    "\n",
    "    fig, axs = plt.subplots(3, 2, figsize=(8, 8))\n",
    "    for i, metric in enumerate(metrics):\n",
    "        row = i // 2\n",
    "        col = i % 2\n",
    "        axs[row, col].set_title(f\"Kmeans - Metric: {metric}\")\n",
    "        for position, k_value in enumerate(k_values):\n",
    "            axs[row, col].boxplot(kmeans_metrics[metric][k_value], positions=positions_of_boxplot[position])\n",
    "        axs[row, col].set_xticks(range(1, len(k_values) + 1))\n",
    "        axs[row, col].set_xticklabels(k_values)\n",
    "    plt.tight_layout()\n",
    "    plt.show()  "
   ]
  },
  {
   "cell_type": "code",
   "execution_count": 52,
   "metadata": {},
   "outputs": [
    {
     "name": "stdout",
     "output_type": "stream",
     "text": [
      "PLOT METRICS 1\n"
     ]
    },
    {
     "name": "stderr",
     "output_type": "stream",
     "text": [
      "Iteraciones: 100%|██████████| 10/10 [00:33<00:00,  3.34s/it]\n"
     ]
    },
    {
     "data": {
      "image/png": "[encoded data removed]",
      "text/plain": [
       "<Figure size 800x800 with 6 Axes>"
      ]
     },
     "metadata": {},
     "output_type": "display_data"
    }
   ],
   "source": [
    "archivos = ['iris.csv','delayedflights-small.csv','Mall_Customers.csv']\n",
    "archivos = ['Mall_Customers.csv']\n",
    "\n",
    "#DBscan\n",
    "minpts_values = [2,4,6]\n",
    "epsilon_values = [0.2,0.8,0.5]\n",
    "parameter_combinations = list(itertools.product(minpts_values, epsilon_values))\n",
    "\n",
    "\n",
    "#Iris\n",
    "iris_frame_dowloaded = pd.read_csv('iris.csv')\n",
    "iris_frame_dowloaded.drop(columns=iris_frame_dowloaded.select_dtypes(exclude='number').columns, inplace=True)\n",
    "plotMetrics1(iris_frame_dowloaded, 10, 0.01, parameter_combinations)"
   ]
  }
 ],
 "metadata": {
  "kernelspec": {
   "display_name": "Python 3",
   "language": "python",
   "name": "python3"
  },
  "language_info": {
   "codemirror_mode": {
    "name": "ipython",
    "version": 3
   },
   "file_extension": ".py",
   "mimetype": "text/x-python",
   "name": "python",
   "nbconvert_exporter": "python",
   "pygments_lexer": "ipython3",
   "version": "3.12.1"
  }
 },
 "nbformat": 4,
 "nbformat_minor": 2
}
