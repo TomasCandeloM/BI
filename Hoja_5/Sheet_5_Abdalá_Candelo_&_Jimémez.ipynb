{
 "cells": [
  {
   "cell_type": "markdown",
   "metadata": {},
   "source": [
    "***SHEET 5***\n",
    "\n",
    "\n",
    "CARLOS FAROUK ABDALÁ RINCÓN\n",
    "\n",
    "TOMAS CANDEO MONTOYA\n",
    "\n",
    "GABRIEL DAVID JIMÉNEZ MOSQUERA"
   ]
  },
  {
   "cell_type": "code",
   "execution_count": 53,
   "metadata": {},
   "outputs": [],
   "source": [
    "#IMPORTS\n",
    "import numpy as np\n",
    "import random\n",
    "import math\n",
    "import pandas as pd\n",
    "import matplotlib.pyplot as plt\n",
    "#import requests as rq\n",
    "import itertools\n",
    "from scipy.spatial.distance import pdist, squareform"
   ]
  },
  {
   "cell_type": "markdown",
   "metadata": {},
   "source": [
    "### UTILS"
   ]
  },
  {
   "cell_type": "code",
   "execution_count": 54,
   "metadata": {},
   "outputs": [],
   "source": [
    "def kMeans(D,k,eps=0.01,mu=None,max_iter=20):\n",
    " d=D.shape[1]\n",
    " if mu is None:\n",
    "  mu=np.random.rand(k,d)*(np.max(D,axis=0)-np.min(D,axis=0))+np.min(D,axis=0)\n",
    " if type(mu)==list:\n",
    "  mu=np.array(mu)\n",
    " s=False\n",
    " g=0\n",
    " while not s:\n",
    "  C=[np.argmin([np.linalg.norm(mu[j]-x)for j in range(k)if not any(np.isnan(mu[j]))])for x in D]\n",
    "  n=np.zeros(mu.shape)\n",
    "  s=True\n",
    "  for i in range(k):\n",
    "   J=[D[j]for j in range(len(D))if C[j]==i]\n",
    "   if len(J)>0:\n",
    "    n[i]=np.mean(J,axis=0)\n",
    "   else:\n",
    "    n[i]=np.random.rand(1,d)*(np.max(D,axis=0)-np.min(D,axis=0))+np.min(D,axis=0)\n",
    "   if np.linalg.norm(mu[i]-n[i])>eps:\n",
    "    s=False\n",
    "  mu=n\n",
    "  g+=1\n",
    "  if g>=max_iter:\n",
    "   s=True\n",
    " return C,mu"
   ]
  },
  {
   "cell_type": "markdown",
   "metadata": {},
   "source": [
    "### EXERCISE 1\n",
    "\n",
    "#### EXERCISE 1.1"
   ]
  },
  {
   "cell_type": "code",
   "execution_count": 55,
   "metadata": {},
   "outputs": [],
   "source": [
    "def getDistances(A):  \n",
    "    pairwise_distances = pdist(A, metric='euclidean')\n",
    "    distance_matrix = squareform(pairwise_distances)\n",
    "    return distance_matrix"
   ]
  },
  {
   "cell_type": "markdown",
   "metadata": {},
   "source": [
    "#### EXERCISE 1.2"
   ]
  },
  {
   "cell_type": "code",
   "execution_count": 56,
   "metadata": {},
   "outputs": [],
   "source": [
    "def getW(D,U,V):\n",
    "    acum_sum=0\n",
    "    for _,index_u in enumerate(U):\n",
    "        for _,index_v in enumerate(V):\n",
    "            acum_sum+=(D[index_u][index_v])\n",
    "    return acum_sum\n"
   ]
  },
  {
   "cell_type": "markdown",
   "metadata": {},
   "source": [
    "#### EXERCISE 1.3"
   ]
  },
  {
   "cell_type": "code",
   "execution_count": 57,
   "metadata": {},
   "outputs": [],
   "source": [
    "def getWIn(D, C):\n",
    "    n = len(C)\n",
    "    acum_sum = 0\n",
    "    for i in range(n):\n",
    "        for j in range(n):\n",
    "            if C[i] == C[j]:\n",
    "                acum_sum += D[i][j]\n",
    "    return acum_sum/2"
   ]
  },
  {
   "cell_type": "code",
   "execution_count": 58,
   "metadata": {},
   "outputs": [],
   "source": [
    "def getWOut(D, C):\n",
    "    n = len(C)\n",
    "    acum_sum = 0\n",
    "    for i in range(n):\n",
    "        for j in range(n):\n",
    "            if C[i] != C[j]:\n",
    "                acum_sum += D[i][j]\n",
    "    return acum_sum/2"
   ]
  },
  {
   "cell_type": "code",
   "execution_count": 59,
   "metadata": {},
   "outputs": [],
   "source": [
    "def getNIn(C):\n",
    "    n = len(C)\n",
    "    acum_sum = 0\n",
    "    for i in range(n):\n",
    "        for j in range(n):\n",
    "            if i != j:\n",
    "                if C[i] == C[j]:\n",
    "                    acum_sum += 1\n",
    "    return acum_sum/2\n",
    "    "
   ]
  },
  {
   "cell_type": "code",
   "execution_count": 60,
   "metadata": {},
   "outputs": [],
   "source": [
    "def getNOut(C):\n",
    "    n = len(C)\n",
    "    acum_sum = 0\n",
    "    for i in range(n):\n",
    "        for j in range(n):\n",
    "            if i != j:\n",
    "                if C[i] != C[j]:\n",
    "                    acum_sum += 1\n",
    "    return acum_sum/2"
   ]
  },
  {
   "cell_type": "code",
   "execution_count": 61,
   "metadata": {},
   "outputs": [
    {
     "name": "stdout",
     "output_type": "stream",
     "text": [
      "<class 'pandas.core.frame.DataFrame'>\n",
      "\n",
      "Test Weight Measures\n",
      "------------------\n",
      "W: ok\n",
      "WIn: ok\n",
      "WOut: ok\n",
      "NIn: ok\n",
      "NOut: ok\n"
     ]
    }
   ],
   "source": [
    "# Test weight\n",
    "\n",
    "import pandas as pd_test\n",
    "import numpy as np_test\n",
    "\n",
    "dfIrisTest = pd_test.read_csv(\"https://raw.githubusercontent.com/uiuc-cse/data-fa14/gh-pages/data/iris.csv\")\n",
    "A_Iris_Test = dfIrisTest[dfIrisTest.columns[:4]].astype(float)\n",
    "C_Iris_Test = dfIrisTest[dfIrisTest.columns[4]]\n",
    "print(type(A_Iris_Test))\n",
    "D_Iris_Test = getDistances(A_Iris_Test)\n",
    "clusters = np.where(C_Iris_Test == 'setosa')[0]\n",
    "C2 = np.where(C_Iris_Test == 'versicolor')[0]\n",
    "C3 = np.where(C_Iris_Test == 'virginica')[0]\n",
    "CList = [clusters, C2, C3]\n",
    "\n",
    "print (\"\\nTest Weight Measures\\n------------------\")\n",
    "expectedW = {\n",
    "    (0,1): 8246,\n",
    "    (0,2): 12056,\n",
    "    (1,2): 4606\n",
    "}\n",
    "wSummary = \"W: \"\n",
    "wFailed = False\n",
    "for i in range(3):\n",
    "    for j in range(i):\n",
    "        p1 = (i,j)\n",
    "        p2 = (j,i)\n",
    "        W1 = np_test.round(getW(D_Iris_Test, CList[i], CList[j]))\n",
    "        W2 = np_test.round(getW(D_Iris_Test, CList[j], CList[i]))\n",
    "        if W1 != W2:\n",
    "            if not wFailed:\n",
    "                wSummary += \"failed\"\n",
    "            wSummary += \"\\n\\tasymmetry of W: \" + str(W1) + \" != \" + str(W2)\n",
    "            wFailed = True\n",
    "        \n",
    "        if W1 != expectedW[p2]:\n",
    "            if not wFailed:\n",
    "                wSummary += \"failed\"\n",
    "            wSummary += \"\\n\\tunexpected value of W: \" + str(W1) + \" instead of expected \" + str(expectedW[p2])\n",
    "            wFailed = True\n",
    "if not wFailed:\n",
    "    wSummary += \"ok\"\n",
    "print(wSummary)\n",
    "expectedWIn = 3518\n",
    "expectedWOut = 24908\n",
    "expectedNIn = 3675\n",
    "expectedNOut = 7500\n",
    "print(\"WIn:\", \"ok\" if np_test.abs(np_test.round(getWIn(D_Iris_Test, C_Iris_Test)) - expectedWIn) < 2 else \"failed\")\n",
    "print(\"WOut:\", \"ok\" if np_test.abs(np_test.round(getWOut(D_Iris_Test, C_Iris_Test)) - expectedWOut) < 2 else \"failed\")\n",
    "print(\"NIn:\", \"ok\" if getNIn(C_Iris_Test) == 3675 else \"failed\")\n",
    "print(\"NOut:\", \"ok\" if getNOut(C_Iris_Test) == 7500 else \"failed\")"
   ]
  },
  {
   "cell_type": "markdown",
   "metadata": {},
   "source": [
    "#### EXERCISE 1.4"
   ]
  },
  {
   "cell_type": "code",
   "execution_count": 62,
   "metadata": {},
   "outputs": [],
   "source": [
    "def getBetaCV(A,C):\n",
    "    D=getDistances(A)\n",
    "    W_in=getWIn(D,C)\n",
    "    N_in=getNIn(C)\n",
    "    W_out=getWOut(D,C)\n",
    "    N_out=getNOut(C)\n",
    "    betaCV_value= (W_in/N_in)/(W_out/N_out)\n",
    "    return betaCV_value\n"
   ]
  },
  {
   "cell_type": "code",
   "execution_count": 63,
   "metadata": {},
   "outputs": [],
   "source": [
    "def getCIndex(A,C):\n",
    "    D=getDistances(A)\n",
    "    W_in=getWIn(D,C)\n",
    "    N_in=getNIn(C)\n",
    "    values=[]\n",
    "    rows,columns=D.shape\n",
    "    for index_row in range(rows):\n",
    "        for index_column in range(columns):\n",
    "            if index_row<index_column:\n",
    "                values.append(D[index_row][index_column])\n",
    "    values_order_upward=np.sort(values)\n",
    "    values_order_downward=values_order_upward[::-1]\n",
    "    W_min=0\n",
    "    W_max=0\n",
    "    for index in range(int(N_in)):\n",
    "        W_min+=values_order_upward[index]\n",
    "        W_max+=values_order_downward[index]\n",
    "    C_index=(W_in-W_min)/(W_max-W_min)\n",
    "    return C_index\n"
   ]
  },
  {
   "cell_type": "code",
   "execution_count": 64,
   "metadata": {},
   "outputs": [],
   "source": [
    "def getNormalizedCut(A, C):\n",
    "    k=len(set(C))\n",
    "    D=getDistances(A)\n",
    "    categories=np.unique(C)\n",
    "    normalizedCut=0\n",
    "    index_groups = [[] for _ in range(k)]\n",
    "    for index in range(len(C)):\n",
    "        for index_category,category in enumerate(categories):\n",
    "            if(C[index]==category):\n",
    "                index_groups[index_category].append(index)\n",
    "\n",
    "    for index_cluster in range(len(index_groups)):\n",
    "        rest_index=[]\n",
    "        for index_rest in range (len(index_groups)):\n",
    "            if (index_cluster!=index_rest):\n",
    "                rest_index=rest_index+index_groups[index_rest]\n",
    "        value_up=getW(D,index_groups[index_cluster],rest_index)\n",
    "        value_down=getW(D,index_groups[index_cluster],index_groups[index_cluster])+value_up\n",
    "        normalizedCut+=(value_up/value_down)\n",
    "\n",
    "    return normalizedCut"
   ]
  },
  {
   "cell_type": "code",
   "execution_count": 65,
   "metadata": {},
   "outputs": [],
   "source": [
    "def getDunn(A,C):\n",
    "    D = getDistances(A)\n",
    "    n = len(C)\n",
    "    min_out = float('inf')\n",
    "    max_in = 0\n",
    "    for i in range(n):\n",
    "        for j in range(n):\n",
    "            if C[i] != C[j]:\n",
    "                out_distance = D[i][j]\n",
    "                if out_distance < min_out:\n",
    "                    min_out = out_distance\n",
    "    for i in range(n):\n",
    "        for j in range(n):\n",
    "            if C[i] == C[j]:\n",
    "                in_distance = D[i][j]\n",
    "                if in_distance > max_in:\n",
    "                    max_in = in_distance\n",
    "    dunn = min_out / max_in\n",
    "    return dunn"
   ]
  },
  {
   "cell_type": "code",
   "execution_count": 78,
   "metadata": {},
   "outputs": [],
   "source": [
    "def getDaviesBouldin(A, C):\n",
    "    \n",
    "    return 0\n",
    "    "
   ]
  },
  {
   "cell_type": "code",
   "execution_count": 142,
   "metadata": {},
   "outputs": [],
   "source": [
    "def getSilhouette(A,C):\n",
    "    D = getDistances(A)\n",
    "    n = len(C)\n",
    "    categories = np.unique(C)\n",
    "    print(categories)\n",
    "    silhouette = 0\n",
    "    acum_in = 0\n",
    "    count_in = 0\n",
    "    min_u_out = float('inf')\n",
    "    for i in range(n):\n",
    "        for j in range(n):\n",
    "            if i != j:\n",
    "                if C[i] == C[j]:\n",
    "                    acum_in += D[i][j]\n",
    "                    count_in += 1\n",
    "        u_in = acum_in / (count_in - 1)\n",
    "        for category in categories:\n",
    "            if category != C[i]:\n",
    "                acum_out = 0\n",
    "                count_out = 0\n",
    "                for j in range(n):\n",
    "                    if C[j] == category:\n",
    "                        acum_out += D[i][j]\n",
    "                        count_out += 1\n",
    "                u_out = acum_out / count_out\n",
    "                if u_out < min_u_out:\n",
    "                    min_u_out = u_out\n",
    "        silhouette += (min_u_out - u_in) / max(min_u_out, u_in)\n",
    "    silhouette = silhouette / n\n",
    "    return silhouette\n"
   ]
  },
  {
   "cell_type": "code",
   "execution_count": 140,
   "metadata": {},
   "outputs": [
    {
     "data": {
      "text/plain": [
       "'\\nimport numpy as np\\n\\ndef getSilhouette(A, C):\\n    # Compute pairwise distance matrix\\n    D = getDistances(A)\\n    n_samples = len(C)\\n    silhouette_vals = np.zeros(n_samples)\\n    for i in range(n_samples):\\n        label_i = C[i]\\n        dists_i = D[i]\\n\\n        # Compute the mean distance of the current sample to other samples in the same cluster\\n        intra_cluster_mean_dist = np.mean(dists_i[C == label_i])\\n\\n        # Compute the mean distance of the current sample to samples in other clusters\\n        min_inter_cluster_mean_dist = np.min([np.mean(dists_i[C == label_j]) for label_j in set(C) if label_j != label_i])\\n\\n        # Compute silhouette value for the current sample\\n        silhouette_vals[i] = (min_inter_cluster_mean_dist - intra_cluster_mean_dist) / max(intra_cluster_mean_dist, min_inter_cluster_mean_dist)\\n\\n    # Compute mean silhouette score\\n    silhouette_score = np.mean(silhouette_vals)\\n    \\n    return silhouette_score\\n'"
      ]
     },
     "execution_count": 140,
     "metadata": {},
     "output_type": "execute_result"
    }
   ],
   "source": [
    "'''\n",
    "import numpy as np\n",
    "\n",
    "def getSilhouette(A, C):\n",
    "    # Compute pairwise distance matrix\n",
    "    D = getDistances(A)\n",
    "    n_samples = len(C)\n",
    "    silhouette_vals = np.zeros(n_samples)\n",
    "    for i in range(n_samples):\n",
    "        label_i = C[i]\n",
    "        dists_i = D[i]\n",
    "\n",
    "        # Compute the mean distance of the current sample to other samples in the same cluster\n",
    "        intra_cluster_mean_dist = np.mean(dists_i[C == label_i])\n",
    "\n",
    "        # Compute the mean distance of the current sample to samples in other clusters\n",
    "        min_inter_cluster_mean_dist = np.min([np.mean(dists_i[C == label_j]) for label_j in set(C) if label_j != label_i])\n",
    "\n",
    "        # Compute silhouette value for the current sample\n",
    "        silhouette_vals[i] = (min_inter_cluster_mean_dist - intra_cluster_mean_dist) / max(intra_cluster_mean_dist, min_inter_cluster_mean_dist)\n",
    "\n",
    "    # Compute mean silhouette score\n",
    "    silhouette_score = np.mean(silhouette_vals)\n",
    "    \n",
    "    return silhouette_score\n",
    "'''\n"
   ]
  },
  {
   "cell_type": "code",
   "execution_count": 121,
   "metadata": {},
   "outputs": [],
   "source": [
    "def getMetric(A, C, metric):\n",
    "    if metric == \"beta\":\n",
    "        return getBetaCV(A, C)\n",
    "    elif metric == \"cindex\":\n",
    "        return getCIndex(A, C)\n",
    "    elif metric == \"nc\":\n",
    "        return getNormalizedCut(A, C)\n",
    "    elif metric == \"dunn\":\n",
    "        return getDunn(A, C)\n",
    "    elif metric == \"db\":\n",
    "        return getDaviesBouldin(A, C)\n",
    "    elif metric == \"sil\":\n",
    "        return getSilhouette(A, C)\n",
    "    else:\n",
    "        return \"metrica invalida\""
   ]
  },
  {
   "cell_type": "code",
   "execution_count": 143,
   "metadata": {},
   "outputs": [
    {
     "name": "stdout",
     "output_type": "stream",
     "text": [
      "\n",
      "Test Metrics\n",
      "------------------\n",
      "beta:\t ok\n",
      "cindex:\t ok\n",
      "nc:\t ok\n",
      "dunn:\t ok\n",
      "db:\t failed. Expected 0.84 but saw 0\n",
      "['setosa' 'versicolor' 'virginica']\n",
      "sil:\t failed. Expected 0.5 but saw 0.39\n"
     ]
    }
   ],
   "source": [
    "# Test weights\n",
    "import pandas as pd_test\n",
    "import numpy as np_test\n",
    "dfIrisTest = pd_test.read_csv(\"https://raw.githubusercontent.com/uiuc-cse/data-fa14/gh-pages/data/iris.csv\")\n",
    "A_Iris_Test = dfIrisTest[dfIrisTest.columns[:4]].astype(float)\n",
    "C_Iris_Test = dfIrisTest[dfIrisTest.columns[4]]\n",
    "D_Iris_Test = getDistances(A_Iris_Test)\n",
    "\n",
    "# Test metrics\n",
    "print (\"\\nTest Metrics\\n------------------\")\n",
    "expected = {\n",
    "    \"beta\": 0.2882861014913346,\n",
    "    \"cindex\": 0.046803774122703735,\n",
    "    \"nc\": 2.6150343040385264,\n",
    "    \"dunn\": 0.05848053214719304,\n",
    "    \"db\": 0.8445815484442534,\n",
    "    \"sil\": 0.5032506980665507\n",
    "}\n",
    "for m in expected:\n",
    "    e = np.round(expected[m], 2)\n",
    "    a = getMetric(A_Iris_Test, C_Iris_Test, m)\n",
    "    a = np.round(a, 2) if not a is None else None\n",
    "    print(m + \":\\t\", \"ok\" if e == a else \"failed. Expected \" + str(e) + \" but saw \" + str(a))"
   ]
  }
 ],
 "metadata": {
  "kernelspec": {
   "display_name": "Python 3",
   "language": "python",
   "name": "python3"
  },
  "language_info": {
   "codemirror_mode": {
    "name": "ipython",
    "version": 3
   },
   "file_extension": ".py",
   "mimetype": "text/x-python",
   "name": "python",
   "nbconvert_exporter": "python",
   "pygments_lexer": "ipython3",
   "version": "3.12.1"
  }
 },
 "nbformat": 4,
 "nbformat_minor": 2
}
