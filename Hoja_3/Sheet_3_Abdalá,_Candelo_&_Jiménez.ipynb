{
 "cells": [
  {
   "cell_type": "markdown",
   "metadata": {},
   "source": [
    "# Hoja 3\n",
    "## Carlos Farouk Abdala\n",
    "## Tomas Candelo \n",
    "## Gabriel Jimenez "
   ]
  },
  {
   "cell_type": "code",
   "execution_count": 64,
   "metadata": {},
   "outputs": [],
   "source": [
    "import numpy as np\n",
    "import pandas as pd\n",
    "import matplotlib.pyplot as plt"
   ]
  },
  {
   "cell_type": "markdown",
   "metadata": {},
   "source": [
    "## Exercise 1\n",
    "### Exercise 1.1"
   ]
  },
  {
   "cell_type": "code",
   "execution_count": 7,
   "metadata": {},
   "outputs": [
    {
     "name": "stdout",
     "output_type": "stream",
     "text": [
      "eigenvalues of D_covariance \n",
      " [ 0.03990796 14.84898093] \n",
      "\n",
      "eigenvectors of D_covariance \n",
      " [[-0.84710349 -0.53142795]\n",
      " [ 0.53142795 -0.84710349]] \n",
      "\n",
      "eigenvalues of trans_D_covariance \n",
      " [ 0.15963186 59.3959237 ] \n",
      "\n",
      "eigenvectors of trans_D_covariance \n",
      " [[-0.84710349 -0.53142795]\n",
      " [ 0.53142795 -0.84710349]]\n"
     ]
    }
   ],
   "source": [
    "# matrix without function\n",
    "\n",
    "D = np.array([[10, 12], [7, 8], [5, 4]])\n",
    "D_covariance = np.cov(D, rowvar=False, bias=True)\n",
    "eigenvalues, eigenvectors = np.linalg.eig(D_covariance)\n",
    "print(\"eigenvalues of D_covariance \\n\", eigenvalues, \"\\n\")\n",
    "print(\"eigenvectors of D_covariance \\n\", eigenvectors, \"\\n\")\n",
    "\n",
    "# matrix with function\n",
    "def transformation (x):\n",
    "    return 2*x + 5\n",
    "function = np.vectorize(transformation)\n",
    "trans_D = function(D)    \n",
    "trans_D_covariance = np.cov(trans_D, rowvar=False, bias=True)\n",
    "eigenvalues_trans, eigenvectors_trnas = np.linalg.eig(trans_D_covariance)\n",
    "print(\"eigenvalues of trans_D_covariance \\n\", eigenvalues_trans, \"\\n\")\n",
    "print(\"eigenvectors of trans_D_covariance \\n\", eigenvectors_trnas)"
   ]
  },
  {
   "cell_type": "markdown",
   "metadata": {},
   "source": [
    "### Exercise 1.2"
   ]
  },
  {
   "cell_type": "markdown",
   "metadata": {},
   "source": [
    "En este caso buscamos demostrar que los componentes principales, vectores propios de la matriz de correlación, es igual en la matriz original y la matriz transformada por una función afin, primero decleremos los siguientes valores:\n",
    "D ------> La matriz sin transformar  \n",
    "DTrans -------> La matriz tranformada por una transformación  \n",
    "covarianza --------> matriz de covarianza de D  \n",
    "covarianza_transformada --------> matriz de covarianza de DT  \n",
    "vector propio ------> vectores propios de la matriz de correlación  \n",
    "\n",
    "Una vez definido esto es necesario centrar los datos de la matriz para obtener la covarianza de esta la cual esta definida por la siguiente ecuación\n",
    "$$ ecuación 1: covarianzaTranformada = \\frac{1}{n} \\sum_{i=1}^{n} (D_centradoT * D_centrado) $$\n",
    "Donde D_centradoT son los datos centralizados transpuestos y D_centrado son los datos centrados normales y se expresan como \n",
    "$$ euación 2: D_centrado = D - media $$\n",
    "\n",
    "Esta ecuación de la covarianza la vamos a asemejar como la de correlación ya que estas dos matrices son semejantes en este caso  \n",
    "\n",
    "De la hoja anterior podemos de igual manera decir que la media transformada esta determinada por la siguiente ecuación\n",
    "$$ ecuación 3: media-tranfrormada = a*media + b $$\n",
    "\n",
    "Entonces si aplicamos la matriz transformada a la ecuación 1 y los valores centrados los cambiamos por la ecuación 2 tendriamos que\n",
    "$$  Correlación-Transformada = \\frac{1}{n} * (DTtrans - mediaTransformadaT)T * (DT - mediaTransformadaT) $$\n",
    "\n",
    "Ahora si cambiamos los valores de la ecuacíon por la formula que equivale su tranformación seria\n",
    "\n",
    "$$  \\frac{1}{n} * (a*D + b - a*media + b)T * (a*D + b - a*media + b) $$\n",
    "\n",
    "simplificamos y obtenemos \n",
    "\n",
    "$$  \\frac{1}{n} * DT*AT*AD - \\frac{1}{n} * DT*AT*A*media - \\frac{1}{n} mediaT * AT * AD - \\frac{1}{n} mediaT*AT * A*media $$ \n",
    "\n",
    "Dado que A es una matriz de valores escalares A*AT tambien es una matriz escalar y ya que la definición dada en la hoja nos dice que la matriz de covarianza y correlación son iguales porque sus valores son igual a 1 la expersión anterior puede ser simplificada a: \n",
    "\n",
    "$$  \\frac{1}{n} * DT*D - \\frac{1}{n} * DT*media - \\frac{1}{n} mediaT*D - \\frac{1}{n} mediaT*media $$\n",
    "\n",
    "simplificando nuevamente obtenemos que \n",
    "\n",
    "$$  \\frac{1}{n} * DT*D - mediaT * media$$\n",
    "\n",
    "lo cual es semejante a decir que la correlación tranformada es igual a 1/n * Σ siendo sigma la matriz de covarianza original  \n",
    "\n",
    "Si todo esto lo aplicamos a la formula Σ*v = α*v donde v son nuestros vectores propios y α es el valor propio, podemos concluir que la matriz de correlación, despues de transformarla, esta dada como una versión escalar de la matriz de covarianza original y las componentes principlaes (nuestros valores o vectores propios) estan relacionadas unicamente con la matriz de covarianza o de correlación, ya que estas son iguales entre si gracias a que sus varianzas equivalen a 1, por lo que estos componentes principales tampoco cambiaran, además cabe resaltar que α no cambia ni en la ecuación tranformada o sin tranformar, en otras palabras v'es el vector propio de la correlación de la matriz transformada que tiene como valor propio a α el cual es el mismo que tiene el vector propio v de la correlación de la matriz original\n"
   ]
  },
  {
   "cell_type": "markdown",
   "metadata": {},
   "source": [
    "## Exercise 2\n",
    "### Exercise 2.1"
   ]
  },
  {
   "cell_type": "code",
   "execution_count": 71,
   "metadata": {},
   "outputs": [
    {
     "name": "stdout",
     "output_type": "stream",
     "text": [
      "[[5 0 4 0 2]\n",
      " [5 5 1 8 9]\n",
      " [3 8 6 9 0]\n",
      " [5 4 7 7 8]\n",
      " [8 3 7 5 1]\n",
      " [6 5 2 3 6]\n",
      " [9 9 4 1 2]\n",
      " [9 0 7 7 0]\n",
      " [3 6 2 4 3]\n",
      " [0 8 1 9 3]]\n",
      "\n",
      "Eigenvalues: \n",
      " [16.87721013  2.8212538   4.72723086 10.79997028  8.19233493] \n",
      "\n",
      "Eigenvectors: \n",
      " [[ 5.41445580e-01 -4.45214026e-01 -7.11207307e-01  5.29623729e-02\n",
      "  -5.55149416e-04]\n",
      " [-4.90196742e-01  2.60370622e-01 -5.53993066e-01 -2.45171018e-01\n",
      "  -5.69997498e-01]\n",
      " [ 3.68062361e-01  7.93585714e-01 -2.32981232e-01 -2.16479754e-01\n",
      "   3.65524384e-01]\n",
      " [-4.15938055e-01 -2.99447292e-01 -1.71373907e-01 -5.59716725e-01\n",
      "   6.28231665e-01]\n",
      " [-3.97579516e-01  1.20601179e-01 -3.21910823e-01  7.59565575e-01\n",
      "   3.83170254e-01]] \n",
      "\n",
      "[0, 3, 4, 2, 1]\n",
      "[0, 3, 4, 2, 1]\n",
      "[0, 3, 4, 2, 1]\n",
      "[0, 3, 4, 2, 1]\n",
      "[0, 3, 4, 2, 1]\n",
      "43.41799999999997\n",
      "\n"
     ]
    },
    {
     "ename": "UnboundLocalError",
     "evalue": "local variable 'D_resized' referenced before assignment",
     "output_type": "error",
     "traceback": [
      "\u001b[1;31m---------------------------------------------------------------------------\u001b[0m",
      "\u001b[1;31mUnboundLocalError\u001b[0m                         Traceback (most recent call last)",
      "Cell \u001b[1;32mIn [71], line 32\u001b[0m\n\u001b[0;32m     29\u001b[0m         D_resized\u001b[38;5;241m=\u001b[39mnp\u001b[38;5;241m.\u001b[39mdot(u\u001b[38;5;241m.\u001b[39mT,D\u001b[38;5;241m.\u001b[39mT)\u001b[38;5;241m.\u001b[39mT\n\u001b[0;32m     30\u001b[0m     \u001b[38;5;28;01mreturn\u001b[39;00m (D_resized)\n\u001b[1;32m---> 32\u001b[0m result_resized_matrix\u001b[38;5;241m=\u001b[39m\u001b[43mPCA\u001b[49m\u001b[43m(\u001b[49m\u001b[43mnp\u001b[49m\u001b[38;5;241;43m.\u001b[39;49m\u001b[43mrandom\u001b[49m\u001b[38;5;241;43m.\u001b[39;49m\u001b[43mrandint\u001b[49m\u001b[43m(\u001b[49m\u001b[38;5;241;43m0\u001b[39;49m\u001b[43m,\u001b[49m\u001b[43m \u001b[49m\u001b[38;5;241;43m10\u001b[39;49m\u001b[43m,\u001b[49m\u001b[43m(\u001b[49m\u001b[38;5;241;43m10\u001b[39;49m\u001b[43m,\u001b[49m\u001b[38;5;241;43m5\u001b[39;49m\u001b[43m)\u001b[49m\u001b[43m)\u001b[49m\u001b[43m,\u001b[49m\u001b[38;5;241;43m0.2\u001b[39;49m\u001b[43m)\u001b[49m\n\u001b[0;32m     33\u001b[0m \u001b[38;5;28mprint\u001b[39m(\u001b[38;5;124m\"\u001b[39m\u001b[38;5;124mResized Matrix: \u001b[39m\u001b[38;5;130;01m\\n\u001b[39;00m\u001b[38;5;124m\"\u001b[39m,result_resized_matrix)\n",
      "Cell \u001b[1;32mIn [71], line 30\u001b[0m, in \u001b[0;36mPCA\u001b[1;34m(D, red)\u001b[0m\n\u001b[0;32m     28\u001b[0m         u\u001b[38;5;241m=\u001b[39m np\u001b[38;5;241m.\u001b[39mcolumn_stack((u, eigenvectors\u001b[38;5;241m.\u001b[39mT[eigenvectors_indices[eigenvectors_index]]\u001b[38;5;241m.\u001b[39mreshape(\u001b[38;5;241m-\u001b[39m\u001b[38;5;241m1\u001b[39m,\u001b[38;5;241m1\u001b[39m)))\n\u001b[0;32m     29\u001b[0m     D_resized\u001b[38;5;241m=\u001b[39mnp\u001b[38;5;241m.\u001b[39mdot(u\u001b[38;5;241m.\u001b[39mT,D\u001b[38;5;241m.\u001b[39mT)\u001b[38;5;241m.\u001b[39mT\n\u001b[1;32m---> 30\u001b[0m \u001b[38;5;28;01mreturn\u001b[39;00m (\u001b[43mD_resized\u001b[49m)\n",
      "\u001b[1;31mUnboundLocalError\u001b[0m: local variable 'D_resized' referenced before assignment"
     ]
    }
   ],
   "source": [
    "def PCA (D,red):\n",
    "    print(D)\n",
    "    mean_of_D= np.mean(D)\n",
    "    center_D= D-mean_of_D\n",
    "    cov_D = np.dot(center_D.T, center_D) / len(center_D)\n",
    "    u=np.array([])\n",
    "    eigenvalues, eigenvectors = np.linalg.eig(cov_D)\n",
    "    print(\"\\nEigenvalues: \\n\",eigenvalues,\"\\n\\nEigenvectors: \\n\", eigenvectors, \"\\n\")\n",
    "    order_indices = np.argsort(eigenvalues)[::-1].tolist()\n",
    "\n",
    "    if(0<=red and red<1):\n",
    "        acum_variance_total=sum(eigenvalues)\n",
    "        red_acum_variance=acum_variance_total*red\n",
    "        acum_variance=0\n",
    "        for index in range(len(order_indices)):\n",
    "            print(order_indices)\n",
    "        print(acum_variance_total)\n",
    "        print()\n",
    "\n",
    "\n",
    " \n",
    "    if(red>=1 and int == type(red)):\n",
    "        eigenvectors_indices=[]\n",
    "        for index in range(red):\n",
    "            eigenvectors_indices.append(order_indices.index(index))\n",
    "        u = eigenvectors.T[eigenvectors_indices[0]].reshape(-1,1)\n",
    "        for eigenvectors_index in range(1, len(eigenvectors_indices)):\n",
    "            u= np.column_stack((u, eigenvectors.T[eigenvectors_indices[eigenvectors_index]].reshape(-1,1)))\n",
    "        D_resized=np.dot(u.T,D.T).T\n",
    "    return (D_resized)\n",
    "\n",
    "result_resized_matrix=PCA(np.random.randint(0, 10,(10,5)),0.2)\n",
    "print(\"Resized Matrix: \\n\",result_resized_matrix)"
   ]
  },
  {
   "cell_type": "markdown",
   "metadata": {},
   "source": [
    "### Exercise 2.2"
   ]
  },
  {
   "cell_type": "markdown",
   "metadata": {},
   "source": [
    "#### 2.2.a"
   ]
  },
  {
   "cell_type": "code",
   "execution_count": 54,
   "metadata": {},
   "outputs": [],
   "source": [
    "# frames implementation\n",
    "iris_frame_dowloaded = pd.read_csv(\"iris.csv\")\n",
    "filtered_iris_frame = iris_frame_dowloaded.loc[:, iris_frame_dowloaded.columns != \"species\"]\n",
    "fabert_frame_dowloaded = pd.read_csv(\"fabert.csv\")\n",
    "filtered_fabert_frame = fabert_frame_dowloaded.loc[:, fabert_frame_dowloaded.columns != \"class\"]\n",
    "Amazon_frame_dowloaded = pd.read_csv(\"Amazon.csv\")\n",
    "filtered_Amazon_frame = Amazon_frame_dowloaded.loc[:, Amazon_frame_dowloaded.columns != \"Class\"]\n",
    "baseball_numeric_frame_dowloaded = pd.read_csv(\"baseball_numeric.csv\")"
   ]
  },
  {
   "cell_type": "code",
   "execution_count": 59,
   "metadata": {},
   "outputs": [],
   "source": [
    "def getStats(A):\n",
    "    n = len(A) \n",
    "    m = len(A[0]) \n",
    "\n",
    "    mean = [sum(col) / n for col in zip(*A)]\n",
    "\n",
    "    central_A = [[A[i][j] - mean[j] for j in range(m)] for i in range(n)]\n",
    "    central_A2=np.array(central_A)\n",
    "\n",
    "    cov = np.dot(central_A2.T, central_A2) / n\n",
    "\n",
    "    std_dev = np.sqrt(np.diag(cov))\n",
    "    corr = [[cov[j][k] / (std_dev[j] * std_dev[k]) for k in range(m)] for j in range(m)]\n",
    "    \n",
    "    return mean, cov, corr\n"
   ]
  },
  {
   "cell_type": "code",
   "execution_count": 63,
   "metadata": {},
   "outputs": [
    {
     "name": "stderr",
     "output_type": "stream",
     "text": [
      "C:\\Users\\tomas\\AppData\\Local\\Temp\\ipykernel_38352\\3964515318.py:14: DeprecationWarning: bias and ddof have no effect and are deprecated\n",
      "  corr2 = np.corrcoef(dataset, rowvar=False, bias=True)\n",
      "C:\\Users\\tomas\\AppData\\Local\\Temp\\ipykernel_38352\\3409762023.py:13: RuntimeWarning: invalid value encountered in scalar divide\n",
      "  corr = [[cov[j][k] / (std_dev[j] * std_dev[k]) for k in range(m)] for j in range(m)]\n",
      "C:\\Users\\tomas\\AppData\\Local\\Packages\\PythonSoftwareFoundation.Python.3.10_qbz5n2kfra8p0\\LocalCache\\local-packages\\Python310\\site-packages\\numpy\\lib\\function_base.py:2897: RuntimeWarning: invalid value encountered in divide\n",
      "  c /= stddev[:, None]\n",
      "C:\\Users\\tomas\\AppData\\Local\\Packages\\PythonSoftwareFoundation.Python.3.10_qbz5n2kfra8p0\\LocalCache\\local-packages\\Python310\\site-packages\\numpy\\lib\\function_base.py:2898: RuntimeWarning: invalid value encountered in divide\n",
      "  c /= stddev[None, :]\n"
     ]
    },
    {
     "name": "stdout",
     "output_type": "stream",
     "text": [
      "            dataset  time with getStats  time with corcoef\n",
      "0              iris            0.040632           0.022855\n",
      "1            fabert            3.910621           0.158933\n",
      "2            amazon          228.678112           4.691061\n",
      "3  baseball numeric            0.100481           0.112915\n"
     ]
    }
   ],
   "source": [
    "import time\n",
    "\n",
    "data = {\"dataset\": [\"iris\", \"fabert\", \"amazon\", \"baseball numeric\"], \"time with getStats\": [], \"time with corcoef\": []}\n",
    "\n",
    "\n",
    "datasets = [filtered_iris_frame, filtered_fabert_frame, filtered_Amazon_frame, baseball_numeric_frame_dowloaded]\n",
    "for dataset in datasets:\n",
    "    start1 = time.time()\n",
    "    data_np = dataset.to_numpy()\n",
    "    getStats(data_np)\n",
    "    end1 = time.time()\n",
    "    excecuting_time_with_getStats = end1 - start1\n",
    "    start2 = time.time()\n",
    "    corr2 = np.corrcoef(dataset, rowvar=False, bias=True)\n",
    "    end2 = time.time()\n",
    "    excecuting_time_with_corcoef = end2 - start2\n",
    "    data[\"time with getStats\"].append(excecuting_time_with_getStats)\n",
    "    data[\"time with corcoef\"].append(excecuting_time_with_corcoef)\n",
    "\n",
    "data_frame = pd.DataFrame(data)\n",
    "print(data_frame)\n"
   ]
  },
  {
   "cell_type": "code",
   "execution_count": null,
   "metadata": {},
   "outputs": [],
   "source": []
  }
 ],
 "metadata": {
  "kernelspec": {
   "display_name": "Python 3",
   "language": "python",
   "name": "python3"
  },
  "language_info": {
   "codemirror_mode": {
    "name": "ipython",
    "version": 3
   },
   "file_extension": ".py",
   "mimetype": "text/x-python",
   "name": "python",
   "nbconvert_exporter": "python",
   "pygments_lexer": "ipython3",
   "version": "3.12.1"
  }
 },
 "nbformat": 4,
 "nbformat_minor": 2
}
