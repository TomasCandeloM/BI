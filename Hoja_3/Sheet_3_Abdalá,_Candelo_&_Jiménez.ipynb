{
 "cells": [
  {
   "cell_type": "markdown",
   "metadata": {},
   "source": [
    "# Hoja 3\n",
    "## Carlos Farouk Abdala\n",
    "## Tomas Candelo \n",
    "## Gabriel Jimenez "
   ]
  },
  {
   "cell_type": "code",
   "execution_count": 1,
   "metadata": {},
   "outputs": [
    {
     "name": "stderr",
     "output_type": "stream",
     "text": [
      "C:\\Users\\tomas\\AppData\\Local\\Temp\\ipykernel_38352\\2080034654.py:2: DeprecationWarning: \n",
      "Pyarrow will become a required dependency of pandas in the next major release of pandas (pandas 3.0),\n",
      "(to allow more performant data types, such as the Arrow string type, and better interoperability with other libraries)\n",
      "but was not found to be installed on your system.\n",
      "If this would cause problems for you,\n",
      "please provide us feedback at https://github.com/pandas-dev/pandas/issues/54466\n",
      "        \n",
      "  import pandas as pd\n"
     ]
    }
   ],
   "source": [
    "import numpy as np\n",
    "import pandas as pd\n",
    "import matplotlib.pyplot as plt"
   ]
  },
  {
   "cell_type": "markdown",
   "metadata": {},
   "source": [
    "## Exercise 1\n",
    "### Exercise 1.1"
   ]
  },
  {
   "cell_type": "code",
   "execution_count": 7,
   "metadata": {},
   "outputs": [
    {
     "name": "stdout",
     "output_type": "stream",
     "text": [
      "eigenvalues of D_covariance \n",
      " [ 0.03990796 14.84898093] \n",
      "\n",
      "eigenvectors of D_covariance \n",
      " [[-0.84710349 -0.53142795]\n",
      " [ 0.53142795 -0.84710349]] \n",
      "\n",
      "eigenvalues of trans_D_covariance \n",
      " [ 0.15963186 59.3959237 ] \n",
      "\n",
      "eigenvectors of trans_D_covariance \n",
      " [[-0.84710349 -0.53142795]\n",
      " [ 0.53142795 -0.84710349]]\n"
     ]
    }
   ],
   "source": [
    "# matrix without function\n",
    "\n",
    "D = np.array([[10, 12], [7, 8], [5, 4]])\n",
    "D_covariance = np.cov(D, rowvar=False, bias=True)\n",
    "eigenvalues, eigenvectors = np.linalg.eig(D_covariance)\n",
    "print(\"eigenvalues of D_covariance \\n\", eigenvalues, \"\\n\")\n",
    "print(\"eigenvectors of D_covariance \\n\", eigenvectors, \"\\n\")\n",
    "\n",
    "# matrix with function\n",
    "def transformation (x):\n",
    "    return 2*x + 5\n",
    "function = np.vectorize(transformation)\n",
    "trans_D = function(D)    \n",
    "trans_D_covariance = np.cov(trans_D, rowvar=False, bias=True)\n",
    "eigenvalues_trans, eigenvectors_trnas = np.linalg.eig(trans_D_covariance)\n",
    "print(\"eigenvalues of trans_D_covariance \\n\", eigenvalues_trans, \"\\n\")\n",
    "print(\"eigenvectors of trans_D_covariance \\n\", eigenvectors_trnas)"
   ]
  },
  {
   "cell_type": "markdown",
   "metadata": {},
   "source": [
    "### Exercise 1.2"
   ]
  },
  {
   "cell_type": "markdown",
   "metadata": {},
   "source": [
    "En este caso buscamos demostrar que los componentes principales, vectores propios de la matriz de correlación, es igual en la matriz original y la matriz transformada por una función afin, primero decleremos los siguientes valores:\n",
    "D ------> La matriz sin transformar  \n",
    "DTrans -------> La matriz tranformada por una transformación  \n",
    "covarianza --------> matriz de covarianza de D  \n",
    "covarianza_transformada --------> matriz de covarianza de DT  \n",
    "vector propio ------> vectores propios de la matriz de correlación  \n",
    "\n",
    "Una vez definido esto es necesario centrar los datos de la matriz para obtener la covarianza de esta la cual esta definida por la siguiente ecuación\n",
    "$$ ecuación 1: covarianzaTranformada = \\frac{1}{n} \\sum_{i=1}^{n} (D_centradoT * D_centrado) $$\n",
    "Donde D_centradoT son los datos centralizados transpuestos y D_centrado son los datos centrados normales y se expresan como \n",
    "$$ euación 2: D_centrado = D - media $$\n",
    "\n",
    "Esta ecuación de la covarianza la vamos a asemejar como la de correlación ya que estas dos matrices son semejantes en este caso  \n",
    "\n",
    "De la hoja anterior podemos de igual manera decir que la media transformada esta determinada por la siguiente ecuación\n",
    "$$ ecuación 3: media-tranfrormada = a*media + b $$\n",
    "\n",
    "Entonces si aplicamos la matriz transformada a la ecuación 1 y los valores centrados los cambiamos por la ecuación 2 tendriamos que\n",
    "$$  Correlación-Transformada = \\frac{1}{n} * (DTtrans - mediaTransformadaT)T * (DT - mediaTransformadaT) $$\n",
    "\n",
    "Ahora si cambiamos los valores de la ecuacíon por la formula que equivale su tranformación seria\n",
    "\n",
    "$$  \\frac{1}{n} * (a*D + b - a*media + b)T * (a*D + b - a*media + b) $$\n",
    "\n",
    "simplificamos y obtenemos \n",
    "\n",
    "$$  \\frac{1}{n} * DT*AT*AD - \\frac{1}{n} * DT*AT*A*media - \\frac{1}{n} mediaT * AT * AD - \\frac{1}{n} mediaT*AT * A*media $$ \n",
    "\n",
    "Dado que A es una matriz de valores escalares A*AT tambien es una matriz escalar y ya que la definición dada en la hoja nos dice que la matriz de covarianza y correlación son iguales porque sus valores son igual a 1 la expersión anterior puede ser simplificada a: \n",
    "\n",
    "$$  \\frac{1}{n} * DT*D - \\frac{1}{n} * DT*media - \\frac{1}{n} mediaT*D - \\frac{1}{n} mediaT*media $$\n",
    "\n",
    "simplificando nuevamente obtenemos que \n",
    "\n",
    "$$  \\frac{1}{n} * DT*D - mediaT * media$$\n",
    "\n",
    "lo cual es semejante a decir que la correlación tranformada es igual a 1/n * Σ siendo sigma la matriz de covarianza original  \n",
    "\n",
    "Si todo esto lo aplicamos a la formula Σ*v = α*v donde v son nuestros vectores propios y α es el valor propio, podemos concluir que la matriz de correlación, despues de transformarla, esta dada como una versión escalar de la matriz de covarianza original y las componentes principlaes (nuestros valores o vectores propios) estan relacionadas unicamente con la matriz de covarianza o de correlación, ya que estas son iguales entre si gracias a que sus varianzas equivalen a 1, por lo que estos componentes principales tampoco cambiaran, además cabe resaltar que α no cambia ni en la ecuación tranformada o sin tranformar, en otras palabras v'es el vector propio de la correlación de la matriz transformada que tiene como valor propio a α el cual es el mismo que tiene el vector propio v de la correlación de la matriz original\n"
   ]
  },
  {
   "cell_type": "markdown",
   "metadata": {},
   "source": [
    "## Exercise 2\n",
    "### Exercise 2.1"
   ]
  },
  {
   "cell_type": "code",
   "execution_count": null,
   "metadata": {},
   "outputs": [],
   "source": []
  },
  {
   "cell_type": "markdown",
   "metadata": {},
   "source": [
    "### Exercise 2.2"
   ]
  },
  {
   "cell_type": "markdown",
   "metadata": {},
   "source": [
    "#### 2.2.a"
   ]
  },
  {
   "cell_type": "code",
   "execution_count": 18,
   "metadata": {},
   "outputs": [
    {
     "name": "stdout",
     "output_type": "stream",
     "text": [
      "   V1  V2  V3  V4  V5  V6  V7  V8  V9  V10  ...  V9992  V9993  V9994  V9995  \\\n",
      "0   5   3   4   4   1   5   1   3   2    4  ...      0      0      0      1   \n",
      "1  12   3   6   2   3   4   2   0   1    3  ...      0      0      5      0   \n",
      "2   3   2   2   4   4   2   2   2   3    1  ...      0      0      6      0   \n",
      "3  18   4   6   5   4   2   1   0   4    3  ...      0      0      0      0   \n",
      "4  13   4   7   5   4   5   0   1   0    4  ...      0      0      1      0   \n",
      "\n",
      "   V9996  V9997  V9998  V9999  V10000    Class  \n",
      "0      0      1      0      0       0  Agresti  \n",
      "1      1      0      0      0       0  Agresti  \n",
      "2      0      0      0      1       0  Agresti  \n",
      "3      0      0      0      0       0  Agresti  \n",
      "4      0      1      1      0       0  Agresti  \n",
      "\n",
      "[5 rows x 10001 columns]\n",
      "   1.000000000000000000e+00  0.000000000000000000e+00  \\\n",
      "0                       0.0                       1.0   \n",
      "1                       0.0                       0.0   \n",
      "2                       0.0                       0.0   \n",
      "3                       0.0                       0.0   \n",
      "4                       0.0                       0.0   \n",
      "\n",
      "   0.000000000000000000e+00.1  0.000000000000000000e+00.2  \\\n",
      "0                         0.0                         0.0   \n",
      "1                         1.0                         0.0   \n",
      "2                         0.0                         1.0   \n",
      "3                         0.0                         0.0   \n",
      "4                         0.0                         0.0   \n",
      "\n",
      "   0.000000000000000000e+00.3  0.000000000000000000e+00.4  \\\n",
      "0                         0.0                         0.0   \n",
      "1                         0.0                         0.0   \n",
      "2                         0.0                         0.0   \n",
      "3                         1.0                         0.0   \n",
      "4                         0.0                         1.0   \n",
      "\n",
      "   0.000000000000000000e+00.5  0.000000000000000000e+00.6  \\\n",
      "0                         0.0                         0.0   \n",
      "1                         0.0                         0.0   \n",
      "2                         0.0                         0.0   \n",
      "3                         0.0                         0.0   \n",
      "4                         0.0                         0.0   \n",
      "\n",
      "   0.000000000000000000e+00.7  0.000000000000000000e+00.8  ...  \\\n",
      "0                         0.0                         0.0  ...   \n",
      "1                         0.0                         0.0  ...   \n",
      "2                         0.0                         0.0  ...   \n",
      "3                         0.0                         0.0  ...   \n",
      "4                         0.0                         0.0  ...   \n",
      "\n",
      "   8.100000000000000000e+01  3.280000000000000138e-01  \\\n",
      "0                      94.0                     0.320   \n",
      "1                      93.0                     0.311   \n",
      "2                      69.0                     0.315   \n",
      "3                      61.0                     0.302   \n",
      "4                      85.0                     0.318   \n",
      "\n",
      "   4.179999999999999827e-01  2.590000000000000080e-01  \\\n",
      "0                     0.389                     0.247   \n",
      "1                     0.417                     0.247   \n",
      "2                     0.415                     0.260   \n",
      "3                     0.378                     0.240   \n",
      "4                     0.422                     0.255   \n",
      "\n",
      "   0.000000000000000000e+00.39  5.000000000000000000e+00  \\\n",
      "0                          1.0                       4.0   \n",
      "1                          1.0                       5.0   \n",
      "2                          0.0                       6.0   \n",
      "3                          0.0                       6.0   \n",
      "4                          0.0                       5.0   \n",
      "\n",
      "   4.000000000000000000e+00  1.620000000000000000e+02  \\\n",
      "0                       5.0                     162.0   \n",
      "1                       4.0                     162.0   \n",
      "2                       1.0                     162.0   \n",
      "3                       4.0                     162.0   \n",
      "4                       4.0                     162.0   \n",
      "\n",
      "   3.170000000000000040e-01  4.149999999999999800e-01  \n",
      "0                     0.306                     0.378  \n",
      "1                     0.315                     0.403  \n",
      "2                     0.331                     0.428  \n",
      "3                     0.335                     0.424  \n",
      "4                     0.319                     0.405  \n",
      "\n",
      "[5 rows x 54 columns]\n"
     ]
    }
   ],
   "source": [
    "# frames implementation\n",
    "iris_frame_dowloaded = pd.read_csv(\"iris.csv\")\n",
    "fabert_frame_dowloaded = pd.read_csv(\"fabert.csv\")\n",
    "Amazon_frame_dowloaded = pd.read_csv(\"Amazon.csv\")\n",
    "baseball_numeric_frame_dowloaded = pd.read_csv(\"baseball_numeric.csv\")"
   ]
  },
  {
   "cell_type": "code",
   "execution_count": null,
   "metadata": {},
   "outputs": [],
   "source": [
    "def getStats(A):\n",
    "    n = len(A) \n",
    "    m = len(A[0]) \n",
    "\n",
    "    mean = [sum(col) / n for col in zip(*A)]\n",
    "\n",
    "    central_A = [[A[i][j] - mean[j] for j in range(m)] for i in range(n)]\n",
    "    central_A2=np.array(central_A)\n",
    "\n",
    "    cov = np.dot(central_A2.T, central_A2) / n\n",
    "\n",
    "    std_dev = np.sqrt(np.diag(cov))\n",
    "    corr = [[cov[j][k] / (std_dev[j] * std_dev[k]) for k in range(m)] for j in range(m)]\n",
    "    \n",
    "    return mean, cov, corr\n"
   ]
  }
 ],
 "metadata": {
  "kernelspec": {
   "display_name": "Python 3",
   "language": "python",
   "name": "python3"
  },
  "language_info": {
   "codemirror_mode": {
    "name": "ipython",
    "version": 3
   },
   "file_extension": ".py",
   "mimetype": "text/x-python",
   "name": "python",
   "nbconvert_exporter": "python",
   "pygments_lexer": "ipython3",
   "version": "3.10.11"
  }
 },
 "nbformat": 4,
 "nbformat_minor": 2
}
