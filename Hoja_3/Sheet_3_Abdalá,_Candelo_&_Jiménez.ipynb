{
 "cells": [
  {
   "cell_type": "markdown",
   "metadata": {},
   "source": [
    "# Hoja 3\n",
    "## Carlos Farouk Abdala\n",
    "## Tomas Candelo \n",
    "## Gabriel Jimenez "
   ]
  },
  {
   "cell_type": "markdown",
   "metadata": {},
   "source": [
    "## Exercise 1\n",
    "### Exercise 1.1"
   ]
  },
  {
   "cell_type": "code",
   "execution_count": 3,
   "metadata": {},
   "outputs": [
    {
     "name": "stdout",
     "output_type": "stream",
     "text": [
      "Cantidad de Sexo esta semana: 0\n",
      "Cantidad de Sexo esta semana: 1\n",
      "Cantidad de Sexo esta semana: 2\n",
      "Cantidad de Sexo esta semana: 3\n",
      "Cantidad de Sexo esta semana: 4\n",
      "Cantidad de Sexo esta semana: 5\n",
      "Cantidad de Sexo esta semana: 6\n",
      "Cantidad de Sexo esta semana: 7\n",
      "Cantidad de Sexo esta semana: 8\n",
      "Cantidad de Sexo esta semana: 9\n",
      "Cantidad de Sexo esta semana: 10\n",
      "Cantidad de Sexo esta semana: 11\n",
      "Cantidad de Sexo esta semana: 12\n",
      "Cantidad de Sexo esta semana: 13\n",
      "Cantidad de Sexo esta semana: 14\n",
      "Cantidad de Sexo esta semana: 15\n",
      "Cantidad de Sexo esta semana: 16\n",
      "Cantidad de Sexo esta semana: 17\n",
      "Cantidad de Sexo esta semana: 18\n",
      "Cantidad de Sexo esta semana: 19\n",
      "Cantidad de Sexo esta semana: 20\n",
      "Cantidad de Sexo esta semana: 21\n",
      "Cantidad de Sexo esta semana: 22\n",
      "Cantidad de Sexo esta semana: 23\n",
      "Cantidad de Sexo esta semana: 24\n",
      "Cantidad de Sexo esta semana: 25\n",
      "Cantidad de Sexo esta semana: 26\n",
      "Cantidad de Sexo esta semana: 27\n",
      "Cantidad de Sexo esta semana: 28\n",
      "Cantidad de Sexo esta semana: 29\n",
      "Cantidad de Sexo esta semana: 30\n",
      "Cantidad de Sexo esta semana: 31\n",
      "Cantidad de Sexo esta semana: 32\n",
      "Cantidad de Sexo esta semana: 33\n",
      "Cantidad de Sexo esta semana: 34\n",
      "Cantidad de Sexo esta semana: 35\n",
      "Cantidad de Sexo esta semana: 36\n",
      "Cantidad de Sexo esta semana: 37\n",
      "Cantidad de Sexo esta semana: 38\n",
      "Cantidad de Sexo esta semana: 39\n",
      "Cantidad de Sexo esta semana: 40\n",
      "Cantidad de Sexo esta semana: 41\n",
      "Cantidad de Sexo esta semana: 42\n",
      "Cantidad de Sexo esta semana: 43\n",
      "Cantidad de Sexo esta semana: 44\n",
      "Cantidad de Sexo esta semana: 45\n",
      "Cantidad de Sexo esta semana: 46\n",
      "Cantidad de Sexo esta semana: 47\n",
      "Cantidad de Sexo esta semana: 48\n",
      "Cantidad de Sexo esta semana: 49\n",
      "Cantidad de Sexo esta semana: 50\n",
      "Cantidad de Sexo esta semana: 51\n",
      "Cantidad de Sexo esta semana: 52\n",
      "Cantidad de Sexo esta semana: 53\n",
      "Cantidad de Sexo esta semana: 54\n",
      "Cantidad de Sexo esta semana: 55\n",
      "Cantidad de Sexo esta semana: 56\n",
      "Cantidad de Sexo esta semana: 57\n",
      "Cantidad de Sexo esta semana: 58\n",
      "Cantidad de Sexo esta semana: 59\n",
      "Cantidad de Sexo esta semana: 60\n",
      "Cantidad de Sexo esta semana: 61\n",
      "Cantidad de Sexo esta semana: 62\n",
      "Cantidad de Sexo esta semana: 63\n",
      "Cantidad de Sexo esta semana: 64\n",
      "Cantidad de Sexo esta semana: 65\n",
      "Cantidad de Sexo esta semana: 66\n",
      "Cantidad de Sexo esta semana: 67\n",
      "Cantidad de Sexo esta semana: 68\n",
      "Cantidad de Sexo esta semana: 69\n",
      "Cantidad de Sexo esta semana: 70\n",
      "Cantidad de Sexo esta semana: 71\n",
      "Cantidad de Sexo esta semana: 72\n",
      "Cantidad de Sexo esta semana: 73\n",
      "Cantidad de Sexo esta semana: 74\n",
      "Cantidad de Sexo esta semana: 75\n",
      "Cantidad de Sexo esta semana: 76\n",
      "Cantidad de Sexo esta semana: 77\n",
      "Cantidad de Sexo esta semana: 78\n",
      "Cantidad de Sexo esta semana: 79\n",
      "Cantidad de Sexo esta semana: 80\n",
      "Cantidad de Sexo esta semana: 81\n",
      "Cantidad de Sexo esta semana: 82\n",
      "Cantidad de Sexo esta semana: 83\n",
      "Cantidad de Sexo esta semana: 84\n",
      "Cantidad de Sexo esta semana: 85\n",
      "Cantidad de Sexo esta semana: 86\n",
      "Cantidad de Sexo esta semana: 87\n",
      "Cantidad de Sexo esta semana: 88\n",
      "Cantidad de Sexo esta semana: 89\n",
      "Cantidad de Sexo esta semana: 90\n",
      "Cantidad de Sexo esta semana: 91\n",
      "Cantidad de Sexo esta semana: 92\n",
      "Cantidad de Sexo esta semana: 93\n",
      "Cantidad de Sexo esta semana: 94\n",
      "Cantidad de Sexo esta semana: 95\n",
      "Cantidad de Sexo esta semana: 96\n",
      "Cantidad de Sexo esta semana: 97\n",
      "Cantidad de Sexo esta semana: 98\n",
      "Cantidad de Sexo esta semana: 99\n"
     ]
    }
   ],
   "source": [
    "for i in range(100):\n",
    "  print(\"Cantidad de Sexo esta semana:\", i)\n",
    "  i=i+1"
   ]
  },
  {
   "cell_type": "markdown",
   "metadata": {},
   "source": [
    "### Exercise 1.2"
   ]
  },
  {
   "cell_type": "code",
   "execution_count": null,
   "metadata": {},
   "outputs": [],
   "source": []
  },
  {
   "cell_type": "markdown",
   "metadata": {},
   "source": [
    "## Exercise 2\n",
    "### Exercise 2.1"
   ]
  },
  {
   "cell_type": "code",
   "execution_count": null,
   "metadata": {},
   "outputs": [],
   "source": []
  },
  {
   "cell_type": "markdown",
   "metadata": {},
   "source": [
    "### Exercise 2.2"
   ]
  },
  {
   "cell_type": "code",
   "execution_count": null,
   "metadata": {},
   "outputs": [],
   "source": []
  }
 ],
 "metadata": {
  "kernelspec": {
   "display_name": "Python 3",
   "language": "python",
   "name": "python3"
  },
  "language_info": {
   "codemirror_mode": {
    "name": "ipython",
    "version": 3
   },
   "file_extension": ".py",
   "mimetype": "text/x-python",
   "name": "python",
   "nbconvert_exporter": "python",
   "pygments_lexer": "ipython3",
   "version": "3.11.7"
  }
 },
 "nbformat": 4,
 "nbformat_minor": 2
}
