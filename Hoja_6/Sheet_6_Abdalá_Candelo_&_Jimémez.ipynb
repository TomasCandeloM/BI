{
 "cells": [
  {
   "cell_type": "code",
   "execution_count": 180,
   "metadata": {},
   "outputs": [],
   "source": [
    "import numpy as np\n",
    "import pandas as pd\n",
    "from template import *\n",
    "import itertools"
   ]
  },
  {
   "cell_type": "markdown",
   "metadata": {},
   "source": [
    "# Exercise 1"
   ]
  },
  {
   "cell_type": "code",
   "execution_count": null,
   "metadata": {},
   "outputs": [],
   "source": []
  },
  {
   "cell_type": "markdown",
   "metadata": {},
   "source": [
    "# Exercise 2"
   ]
  },
  {
   "cell_type": "markdown",
   "metadata": {},
   "source": [
    "## Exercise 2.1"
   ]
  },
  {
   "cell_type": "code",
   "execution_count": 246,
   "metadata": {},
   "outputs": [],
   "source": [
    "def eclat(db, minsup):\n",
    "    items_list = []\n",
    "    for t in db:\n",
    "        items_list.extend(t)\n",
    "    items_list = list(sorted(set(items_list)))\n",
    "    item_list_transactions = {item: [] for item in items_list}\n",
    "    active_items = items_list.copy()\n",
    "    for transaction_index, t in enumerate(db):\n",
    "        for transaction_item in t:\n",
    "            item_list_transactions[(transaction_item)].append(transaction_index + 1)\n",
    "    item_supports = [([item], item_list_transactions[item]) for item in active_items]\n",
    "    for item in item_supports:\n",
    "        if len(item[1]) < minsup:\n",
    "            active_items.remove(item[0][0])\n",
    "            item_supports.remove(item)\n",
    "    final_supports_list=supportsNextLevel(item_supports,item_supports, active_items, minsup)\n",
    "    final_supports=[(item,len(transactions)) for item,transactions in final_supports_list]\n",
    "    return(final_supports)\n",
    "    \n",
    "def supportsNextLevel(total_supports,supports, items, minsup, first_time=True):\n",
    "    for index, item in enumerate(items[:-1]):\n",
    "        level_supports = []\n",
    "        item_derivate_list = []\n",
    "        elements_to_combine = items[index+1:]\n",
    "        for other_item in elements_to_combine:\n",
    "            combined_list = sorted(list(set(item + other_item)))\n",
    "            if first_time:\n",
    "                combined_support = list(set(findSupport(supports, [item])).intersection(findSupport(supports, [other_item])))\n",
    "            else:\n",
    "                combined_support = list(set(findSupport(supports, item)).intersection(findSupport(supports, other_item)))\n",
    "            if len(combined_support) >= minsup:\n",
    "                level_supports.append((combined_list, combined_support))\n",
    "                item_derivate_list.append(combined_list)\n",
    "        total_supports.extend(level_supports)\n",
    "        if len(level_supports) > 1 and level_supports:\n",
    "            supportsNextLevel(total_supports,level_supports, item_derivate_list, minsup, False)\n",
    "    if first_time:\n",
    "        return(total_supports)\n",
    "\n",
    "def findSupport(supports,item):\n",
    "    for support in supports:\n",
    "        if item==support[0]:\n",
    "            return support[1]"
   ]
  },
  {
   "cell_type": "markdown",
   "metadata": {},
   "source": [
    "### test"
   ]
  },
  {
   "cell_type": "code",
   "execution_count": 247,
   "metadata": {},
   "outputs": [
    {
     "name": "stdout",
     "output_type": "stream",
     "text": [
      "Syntax check on frequent itemset collection: OK\n",
      "19\n",
      "Length of collection: OK\n",
      "F seems to be correct.\n"
     ]
    }
   ],
   "source": [
    "## Unit test\n",
    "import pandas as pd\n",
    "dbExample = read_database(\"example.dat\")\n",
    "\n",
    "def testSyntax(F):\n",
    "    found_problem = False\n",
    "    for t in F:\n",
    "        if type(t) != tuple:\n",
    "            print(\"Entry \" + str(t) + \" in frequent itemset collection F is not a tuple.\")\n",
    "            found_problem = True\n",
    "        elif len(t) != 2:\n",
    "            print(\"Entry \" + str(t) + \" in frequent itemset collection F is a tuple but of length \" + str(len(t)) + \" instead of 2.\")\n",
    "            found_problem = True\n",
    "        elif type(t[0]) != list:\n",
    "            print(\"Itemset type in entry \" + str(t) + \" is \" + str(type(t[0])) + \" but should be list!\")\n",
    "            found_problem = True\n",
    "        elif type(t[1]) != int:\n",
    "            print(\"Support in entry \" + str(t) + \" is of type \" + str(type(t[1])) + \" but should be int!\")\n",
    "            found_problem = True\n",
    "    print(\"Syntax check on frequent itemset collection: \" + (\"FAILED\" if found_problem else \"OK\"))\n",
    "\n",
    "def testFrequentItemsetCollection(F_exp, F_act):\n",
    "    testSyntax(F_act)\n",
    "    length_exp = len(F_exp)\n",
    "    print(length_exp)\n",
    "    length_act = len(F_act)\n",
    "    print(\"Length of collection: \" + str(\"OK\" if length_exp == length_act else \"FAILED, expected length \" + str(length_exp) + \" but saw \" + str(length_act)))\n",
    "    obsolete = [f for f in F_act if not f in F_exp]\n",
    "    missing = [f for f in F_exp if not f in F_act]\n",
    "    if obsolete:\n",
    "        print(\"Found unexpected entries in F: \" + str(obsolete))\n",
    "    if missing:\n",
    "        print(\"Missing entries in F: \" + str(missing))\n",
    "    if not missing and not obsolete:\n",
    "        print(\"F seems to be correct.\")\n",
    "\n",
    "F_exp = [(['A'], 4), (['A', 'B'], 4), (['A', 'B', 'D'], 3), (['A', 'B', 'D', 'E'], 3), (['A', 'B', 'E'], 4), (['A', 'D'], 3), (['A', 'D', 'E'], 3), (['A', 'E'], 4), (['B'], 6), (['B', 'C'], 4), (['B', 'C', 'E'], 3), (['B', 'D'], 4), (['B', 'D', 'E'], 3), (['B', 'E'], 5), (['C'], 4), (['C', 'E'], 3), (['D'], 4), (['D', 'E'], 3), (['E'], 5)]\n",
    "\n",
    "# Test ECLAT\n",
    "F_act = eclat(dbExample, 3)\n",
    "\n",
    "testFrequentItemsetCollection(F_exp, F_act)"
   ]
  },
  {
   "cell_type": "code",
   "execution_count": null,
   "metadata": {},
   "outputs": [],
   "source": [
    "def testRuleGeneration(R_exp, R_act):\n",
    "\n",
    "    # test syntax\n",
    "    found_problem = False\n",
    "    for r in R_act:\n",
    "        if type(r) != tuple:\n",
    "            print(\"Rule \" + str(r) + \" is not represented as a tuple!\")\n",
    "            found_problem = True\n",
    "        if len(r) != 4:\n",
    "            print(\"Rule \" + str(r) + \" does not consist of 4 entries. Should be (premise, conclusion, (absolute) support, confidence)\")\n",
    "            found_problem = True\n",
    "        if type(r[0]) != list:\n",
    "            print(\"Premise of rule \" + str(r) + \" is of type \" + str(type(r[0])) + \" but should be list!\")\n",
    "            found_problem = True\n",
    "        if type(r[1]) != list:\n",
    "            print(\"Conclusion of rule \" + str(r) + \" is of type \" + str(type(r[0])) + \" but should be list!\")\n",
    "            found_problem = True\n",
    "    print(\"Syntax check \" + (\"FAILED. Skipping rest of the test.\" if found_problem else \"OK\"))\n",
    "    if found_problem:\n",
    "        return\n",
    "    \n",
    "    # semantics test\n",
    "    length_exp = len(R_exp)\n",
    "    length_act = len(R_act)\n",
    "    print(\"Length of rule set: \" + str(\"OK\" if length_exp == length_act else \"FAILED, expected length \" + str(length_exp) + \" but saw \" + str(length_act)))\n",
    "    obsolete = [f for f in R_act if not f in R_exp]\n",
    "    missing = [f for f in R_exp if not f in R_act]\n",
    "    if obsolete:\n",
    "        print(\"Found unexpected entries in R: \" + str(obsolete))\n",
    "        found_problem = True\n",
    "    if missing:\n",
    "        print(\"Missing entries in R: \" + str(missing))\n",
    "        found_problem = True\n",
    "    print(\"Rule set test: \" + (\"FAILED\" if found_problem else \"OK\"))\n",
    "\n",
    "R_exp = [(['A'], ['B'], 4, 1.0), (['A', 'D'], ['B'], 3, 1.0), (['B', 'D', 'E'], ['A'], 3, 1.0), (['A', 'D', 'E'], ['B'], 3, 1.0), (['A', 'B', 'D'], ['E'], 3, 1.0), (['D', 'E'], ['A', 'B'], 3, 1.0), (['A', 'D'], ['B', 'E'], 3, 1.0), (['A', 'E'], ['B'], 4, 1.0), (['A', 'B'], ['E'], 4, 1.0), (['A'], ['B', 'E'], 4, 1.0), (['D', 'E'], ['A'], 3, 1.0), (['A', 'D'], ['E'], 3, 1.0), (['A'], ['E'], 4, 1.0), (['C'], ['B'], 4, 1.0), (['C', 'E'], ['B'], 3, 1.0), (['D'], ['B'], 4, 1.0), (['D', 'E'], ['B'], 3, 1.0), (['E'], ['B'], 5, 1.0)]\n",
    "R_act = getStrongRulesForDatabase(dbExample, 3, 1.0)\n",
    "testRuleGeneration(R_exp, R_act)"
   ]
  }
 ],
 "metadata": {
  "kernelspec": {
   "display_name": "Python 3",
   "language": "python",
   "name": "python3"
  },
  "language_info": {
   "codemirror_mode": {
    "name": "ipython",
    "version": 3
   },
   "file_extension": ".py",
   "mimetype": "text/x-python",
   "name": "python",
   "nbconvert_exporter": "python",
   "pygments_lexer": "ipython3",
   "version": "3.12.1"
  }
 },
 "nbformat": 4,
 "nbformat_minor": 2
}
