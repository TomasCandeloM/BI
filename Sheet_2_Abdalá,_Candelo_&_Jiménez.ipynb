{
  "cells": [
    {
      "cell_type": "markdown",
      "metadata": {
        "id": "JMOr1TZCKRy4"
      },
      "source": [
        "***SHEET 2***\n",
        "\n",
        "\n",
        "CARLOS FAROUK ABDALÁ RINCÓN\n",
        "\n",
        "TOMAS CANDEO MONTOYA\n",
        "\n",
        "GABRIEL DAVID JIMÉNEZ MOSQUERA"
      ]
    },
    {
      "cell_type": "code",
      "execution_count": 2,
      "metadata": {
        "id": "sFt5nje1Sos8"
      },
      "outputs": [
        {
          "name": "stderr",
          "output_type": "stream",
          "text": [
            "C:\\Users\\tomas\\AppData\\Local\\Temp\\ipykernel_24920\\2844614886.py:3: DeprecationWarning: \n",
            "Pyarrow will become a required dependency of pandas in the next major release of pandas (pandas 3.0),\n",
            "(to allow more performant data types, such as the Arrow string type, and better interoperability with other libraries)\n",
            "but was not found to be installed on your system.\n",
            "If this would cause problems for you,\n",
            "please provide us feedback at https://github.com/pandas-dev/pandas/issues/54466\n",
            "        \n",
            "  import pandas as pd\n"
          ]
        }
      ],
      "source": [
        "#IMPORTS\n",
        "import numpy as np\n",
        "import pandas as pd\n",
        "import matplotlib.pyplot as plt"
      ]
    },
    {
      "cell_type": "markdown",
      "metadata": {
        "id": "qfnF3fLYQ12a"
      },
      "source": [
        "# EXERCISE 1\n",
        "\n",
        "## EXERCISE 1.1"
      ]
    },
    {
      "cell_type": "markdown",
      "metadata": {},
      "source": []
    },
    {
      "cell_type": "markdown",
      "metadata": {
        "id": "usN7kKijShvD"
      },
      "source": [
        "## EXERCISE 1.2\n",
        "\n",
        "### 1.2.a"
      ]
    },
    {
      "cell_type": "code",
      "execution_count": 5,
      "metadata": {},
      "outputs": [
        {
          "name": "stdout",
          "output_type": "stream",
          "text": [
            "Covariation matrix without transformation \n",
            " [[ 4.22222222  6.66666667]\n",
            " [ 6.66666667 10.66666667]]\n",
            "\n",
            " Covariation of transformed matrix  \n",
            " [[152. 240.]\n",
            " [240. 384.]]\n"
          ]
        }
      ],
      "source": [
        "# matrix without function\n",
        "\n",
        "D = np.array([[10, 12], [7, 8], [5, 4]])\n",
        "D_covariance = np.cov(D, rowvar=False, bias=True)\n",
        "print(\"Covariation matrix without transformation \\n\", D_covariance)\n",
        "\n",
        "# matrix with function\n",
        "def transformation (x):\n",
        "    return 6*x + 3\n",
        "function = np.vectorize(transformation)\n",
        "trans_D = function(D)    \n",
        "trans_D_covariance = np.cov(trans_D, rowvar=False, bias=True)\n",
        "print(\"\\n Covariation of transformed matrix  \\n\", trans_D_covariance)"
      ]
    },
    {
      "cell_type": "markdown",
      "metadata": {},
      "source": [
        "### 1.2.b"
      ]
    },
    {
      "cell_type": "markdown",
      "metadata": {},
      "source": [
        "### media\n",
        "Para demostrar que la media de la matris transformada es igual a la media de la matriz transformada aplicando la tranformacion vamos a dentorar los siguientes datos \n",
        "\n",
        "media-tranformada ---> media de la matriz transformada  \n",
        "D-transformada -----> matriz D con la transformación  \n",
        "a -----> el valor que multiplica el elemento en Xi en la funcion afin   \n",
        "b -----> el valor que suma en la función afin   \n",
        "D ----> matriz original  \n",
        "media ----> media de la mtriz sin traansformar  \n",
        "n ----> número total de datos   \n",
        "\n",
        "Una vez definido esto utilizamos la ecuación de la media en una matriz la cual esta dada por: \n",
        "$$ ecuación 1: media = \\frac{1}{n} \\sum_{i=1}^{n} D $$\n",
        "\n",
        "Ahora la ecuación para obtener la matriz tranforada es la siguiente:  \n",
        "$$ ecuación 2: D-transformada = a*D + b $$\n",
        "\n",
        "por lo tanto la media de la matriz tranformada, reemplazando valores seria la siguiente\n",
        "$$ media-tranfrormada = \\frac{1}{n} \\sum_{i=1}^{n} D transformada $$\n",
        "$$ media-tranfrormada = \\frac{1}{n} \\sum_{i=1}^{n} (a*D + b) $$\n",
        "$$ media-tranfrormada = a* \\frac{1}{n} \\sum_{i=1}^{n} D + b $$\n",
        "$$ media-tranfrormada = a*media + b $$\n",
        "\n",
        "Como se puede ver al reemplazar la matriz tranformada por la ecuación que la genera, en la sumatoria se aplica la tranfromación a cada valor, sin embargo al ser constantes estos pueden salir de la sumatario denjando unicamente la sumatoria de los datos de la matriz original, ecuación que es igual a la de la media \n",
        "\n",
        "### Covarianza\n",
        "\n",
        "Una vez demostrada la media ahora veremos la covarianza, en este caso la covarianza esta determinada por:\n",
        "$$ ecuación 3 :covarianza = \\frac{1}{n} \\sum_{i=1}^{n} (D_i-media_i)(D_j-media_j) $$\n",
        "Para la matriz tranformada aplicamos la misma logica que en la maedia donde la ecuación 3 se aplica en base a la matriz tranformada y luego el valor de la matriz tranformada sera reemplazada por la ecuación 2\n",
        "$$ covarianzaTranformada = \\frac{1}{n} \\sum_{i=1}^{n} (DTranformada_i-mediaTransformada_i)(DTranformada_j-mediaTranformada_j) $$\n",
        "$$ covarianzaTranformada = \\frac{1}{n} \\sum_{i=1}^{n} ((a_i*D_i + b_i)-(a_i*media_i + b_i))((a_j*D_j + b_j)-(a_j*media_j + b_j)) $$\n",
        "Si resolvemos los parentesis y simplificamos obtenedremos la siguiente expresión donde los valores de b se van a cancelar\n",
        "$$ covarianzaTranformada = \\frac{1}{n} \\sum_{i=1}^{n} a_i*a_j(D_i - media_i)(D_j - media_j) $$\n",
        "Sacamos los valores de a de la sumatoria y reemplazamos la sumatoria por la ecuación 3\n",
        "$$ covarianzaTranformada = a_i*a_j*covarianza $$\n",
        "\n"
      ]
    },
    {
      "cell_type": "markdown",
      "metadata": {},
      "source": [
        "### 1.2.C"
      ]
    },
    {
      "cell_type": "markdown",
      "metadata": {},
      "source": [
        "### corelación\n",
        "\n",
        "Para demostrar que la correlación en ambas matrices es igual partimos de la ecuación de corelación\n",
        "\n",
        "$$ecuación 1: correlación = \\frac{covarianza_ij}{\\sqrt{varianza_i*varianza_j}}$$\n",
        "\n",
        "Recordemos que la ecuación de la varianza para la mariz transformada\n",
        "$$ecuación 2: covarianzaTranformada = a_i*a_j*covarianza $$\n",
        "\n",
        "ahora usaremos la ecuación 1 aplicada a la matriz transformada\n",
        "$$correlaciónTransformada = \\frac{covarianza_ijTransformada}{\\sqrt{varianza_iTransformada*varianza_jTransformada}}$$\n",
        "\n",
        "reemplazamos los valores de la covarianza transformada por la ecuación 2 y simplificamos\n",
        "$$correlaciónTransformada = \\frac{a_i*a_j*covarianza}{\\sqrt{a_i*a_j*covarianza_i* a_i*a_j*covarianza_j}}$$\n",
        "$$correlaciónTransformada = \\frac{a_i*a_j*covarianza}{\\sqrt{a_i^2*a_j^2*covarianza_i*covarianza_j}}$$\n",
        "$$correlaciónTransformada = \\frac{a_i*a_j*covarianza_ij}{a_i*a_j\\sqrt{acovarianza_i*covarianza_j}}$$\n",
        "$$correlaciónTransformada = \\frac{covarianza_ij}{\\sqrt{acovarianza_i*covarianza_j}}$$\n",
        "\n",
        "Como podemos ver la ecuación de la correlación trasformada es igual a la ecuación 1 que es la correlación sin transformar\n",
        "\n",
        "la propiedad representa que las correlaciones de ambas matrices no cambian, esto ya que sin importar que en una se realizo una transformación afin, este tipo de transformaciones realiza una tranformación lineal y una traslación pero esto no afecta su comportamiento lineal por lo que este sera el mismo con este tipo de transformaciones"
      ]
    },
    {
      "cell_type": "markdown",
      "metadata": {
        "id": "4P5AbKDOLSvI"
      },
      "source": [
        "## Exercise 2.1\n"
      ]
    },
    {
      "cell_type": "code",
      "execution_count": null,
      "metadata": {
        "colab": {
          "base_uri": "https://localhost:8080/",
          "height": 367
        },
        "id": "FOBdYgqvLYrZ",
        "outputId": "99bdb3aa-3ab0-435f-8426-4f2143d09558"
      },
      "outputs": [],
      "source": [
        "## unit-tests for getStats and getEigen\n",
        "import warnings\n",
        "dfIrisTest = pd.read_csv(\"https://raw.githubusercontent.com/uiuc-cse/data-fa14/gh-pages/data/iris.csv\")\n",
        "AIris = dfIrisTest.values[:,0:4].astype(float)\n",
        "def testStats(expected, A):\n",
        "    out = getStats(A)\n",
        "    if type(out) != tuple or len(out) != 3:\n",
        "        warnings.warn(\"getStats not working properly! Output of getStats should be a tuple of length 3!\")\n",
        "        return\n",
        "    mu, cov, cor = out\n",
        "    print(\"mu:\", \"OK\" if np.array_equal(np.round(expected[0], 3), np.round(mu, 3)) else \"FAIL\")\n",
        "    print(\"cov:\", \"OK\" if np.array_equal(np.round(expected[1], 3), np.round(cov, 3)) else \"FAIL\")\n",
        "    print(\"cor:\", \"OK\" if np.array_equal(np.round(expected[2], 3), np.round(cor, 3)) else \"FAIL\")\n",
        "\n",
        "covIris = np.array([[ 0.681, -0.039, 1.265, 0.513], [-0.039, 0.187, -0.32, -0.117], [1.265, -0.32, 3.092, 1.288], [0.513, -0.117,  1.288,  0.579]])\n",
        "testStats(([5.843, 3.054, 3.759, 1.199], covIris, np.array([[ 1., -0.109, 0.872, 0.818], [-0.109,  1., -0.421, -0.357], [0.872, -0.421, 1., 0.963], [0.818, -0.357, 0.963,  1.]])), AIris)"
      ]
    },
    {
      "cell_type": "markdown",
      "metadata": {
        "id": "oLOQJXVnLi7Q"
      },
      "source": [
        "# Exercise 2.2"
      ]
    },
    {
      "cell_type": "code",
      "execution_count": null,
      "metadata": {
        "id": "okfbl_PPLqFJ"
      },
      "outputs": [],
      "source": []
    },
    {
      "cell_type": "markdown",
      "metadata": {
        "id": "oe4rdP5ULmop"
      },
      "source": [
        "# Exercise 2.3"
      ]
    },
    {
      "cell_type": "code",
      "execution_count": null,
      "metadata": {
        "id": "pLYFoAXDLo1J"
      },
      "outputs": [],
      "source": []
    }
  ],
  "metadata": {
    "colab": {
      "provenance": []
    },
    "kernelspec": {
      "display_name": "Python 3",
      "name": "python3"
    },
    "language_info": {
      "codemirror_mode": {
        "name": "ipython",
        "version": 3
      },
      "file_extension": ".py",
      "mimetype": "text/x-python",
      "name": "python",
      "nbconvert_exporter": "python",
      "pygments_lexer": "ipython3",
      "version": "3.10.11"
    }
  },
  "nbformat": 4,
  "nbformat_minor": 0
}
