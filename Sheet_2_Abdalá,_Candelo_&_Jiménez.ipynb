{
  "cells": [
    {
      "cell_type": "markdown",
      "metadata": {
        "id": "JMOr1TZCKRy4"
      },
      "source": [
        "***SHEET 2***\n",
        "\n",
        "\n",
        "CARLOS FAROUK ABDALÁ RINCÓN\n",
        "\n",
        "TOMAS CANDEO MONTOYA\n",
        "\n",
        "GABRIEL DAVID JIMÉNEZ MOSQUERA"
      ]
    },
    {
      "cell_type": "code",
      "execution_count": 2,
      "metadata": {
        "id": "sFt5nje1Sos8"
      },
      "outputs": [
        {
          "name": "stderr",
          "output_type": "stream",
          "text": [
            "C:\\Users\\tomas\\AppData\\Local\\Temp\\ipykernel_25284\\2844614886.py:3: DeprecationWarning: \n",
            "Pyarrow will become a required dependency of pandas in the next major release of pandas (pandas 3.0),\n",
            "(to allow more performant data types, such as the Arrow string type, and better interoperability with other libraries)\n",
            "but was not found to be installed on your system.\n",
            "If this would cause problems for you,\n",
            "please provide us feedback at https://github.com/pandas-dev/pandas/issues/54466\n",
            "        \n",
            "  import pandas as pd\n"
          ]
        }
      ],
      "source": [
        "#IMPORTS\n",
        "import numpy as np\n",
        "import pandas as pd\n",
        "import matplotlib.pyplot as plt"
      ]
    },
    {
      "cell_type": "markdown",
      "metadata": {
        "id": "qfnF3fLYQ12a"
      },
      "source": [
        "EXERCISE 1\n",
        "\n",
        "EXERCISE 1.1"
      ]
    },
    {
      "cell_type": "markdown",
      "metadata": {
        "id": "usN7kKijShvD"
      },
      "source": [
        "EXERCISE 1.2"
      ]
    },
    {
      "cell_type": "code",
      "execution_count": 38,
      "metadata": {
        "colab": {
          "base_uri": "https://localhost:8080/"
        },
        "id": "i9mlvLvHRSh4",
        "outputId": "c8029573-7db7-4b23-8b1e-b6bdb875ca69"
      },
      "outputs": [
        {
          "name": "stdout",
          "output_type": "stream",
          "text": [
            "[[298.66666667 346.66666667]\n",
            " [346.66666667 466.66666667]]\n",
            "[[448. 520.]\n",
            " [520. 700.]]\n"
          ]
        }
      ],
      "source": [
        "matrix = np.array([[92,80], [60, 30], [100, 70]])\n",
        "mean_matrix = np.mean(matrix, axis=0)\n",
        "central_matrix = matrix - mean_matrix\n",
        "transpose_cental_matrix = central_matrix.T\n",
        "dot_product = np.dot(transpose_cental_matrix, central_matrix)\n",
        "covariance_matrix = dot_product / (matrix.shape[0])\n",
        "print(covariance_matrix)\n",
        "\n",
        "cov_matrix = np.cov(matrix, rowvar=False, bias=True)\n",
        "print(cov_matrix)\n"
      ]
    },
    {
      "cell_type": "markdown",
      "metadata": {
        "id": "4P5AbKDOLSvI"
      },
      "source": [
        "## Exercise 2.1\n"
      ]
    },
    {
      "cell_type": "code",
      "execution_count": null,
      "metadata": {
        "colab": {
          "base_uri": "https://localhost:8080/",
          "height": 367
        },
        "id": "FOBdYgqvLYrZ",
        "outputId": "99bdb3aa-3ab0-435f-8426-4f2143d09558"
      },
      "outputs": [],
      "source": [
        "## unit-tests for getStats and getEigen\n",
        "import warnings\n",
        "dfIrisTest = pd.read_csv(\"https://raw.githubusercontent.com/uiuc-cse/data-fa14/gh-pages/data/iris.csv\")\n",
        "AIris = dfIrisTest.values[:,0:4].astype(float)\n",
        "def testStats(expected, A):\n",
        "    out = getStats(A)\n",
        "    if type(out) != tuple or len(out) != 3:\n",
        "        warnings.warn(\"getStats not working properly! Output of getStats should be a tuple of length 3!\")\n",
        "        return\n",
        "    mu, cov, cor = out\n",
        "    print(\"mu:\", \"OK\" if np.array_equal(np.round(expected[0], 3), np.round(mu, 3)) else \"FAIL\")\n",
        "    print(\"cov:\", \"OK\" if np.array_equal(np.round(expected[1], 3), np.round(cov, 3)) else \"FAIL\")\n",
        "    print(\"cor:\", \"OK\" if np.array_equal(np.round(expected[2], 3), np.round(cor, 3)) else \"FAIL\")\n",
        "\n",
        "covIris = np.array([[ 0.681, -0.039, 1.265, 0.513], [-0.039, 0.187, -0.32, -0.117], [1.265, -0.32, 3.092, 1.288], [0.513, -0.117,  1.288,  0.579]])\n",
        "testStats(([5.843, 3.054, 3.759, 1.199], covIris, np.array([[ 1., -0.109, 0.872, 0.818], [-0.109,  1., -0.421, -0.357], [0.872, -0.421, 1., 0.963], [0.818, -0.357, 0.963,  1.]])), AIris)"
      ]
    },
    {
      "cell_type": "markdown",
      "metadata": {
        "id": "oLOQJXVnLi7Q"
      },
      "source": [
        "# Exercise 2.2"
      ]
    },
    {
      "cell_type": "code",
      "execution_count": null,
      "metadata": {
        "id": "okfbl_PPLqFJ"
      },
      "outputs": [],
      "source": []
    },
    {
      "cell_type": "markdown",
      "metadata": {
        "id": "oe4rdP5ULmop"
      },
      "source": [
        "# Exercise 2.3"
      ]
    },
    {
      "cell_type": "code",
      "execution_count": null,
      "metadata": {
        "id": "pLYFoAXDLo1J"
      },
      "outputs": [],
      "source": []
    }
  ],
  "metadata": {
    "colab": {
      "provenance": []
    },
    "kernelspec": {
      "display_name": "Python 3",
      "name": "python3"
    },
    "language_info": {
      "codemirror_mode": {
        "name": "ipython",
        "version": 3
      },
      "file_extension": ".py",
      "mimetype": "text/x-python",
      "name": "python",
      "nbconvert_exporter": "python",
      "pygments_lexer": "ipython3",
      "version": "3.10.11"
    }
  },
  "nbformat": 4,
  "nbformat_minor": 0
}
