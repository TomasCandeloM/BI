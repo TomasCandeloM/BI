{
 "cells": [
  {
   "cell_type": "markdown",
   "metadata": {},
   "source": [
    "***SHEET 4***\n",
    "\n",
    "\n",
    "CARLOS FAROUK ABDALÁ RINCÓN\n",
    "\n",
    "TOMAS CANDEO MONTOYA\n",
    "\n",
    "GABRIEL DAVID JIMÉNEZ MOSQUERA"
   ]
  },
  {
   "cell_type": "code",
   "execution_count": 2,
   "metadata": {},
   "outputs": [],
   "source": [
    "#IMPORTS\n",
    "import numpy as np\n",
    "import random\n",
    "import math\n",
    "#import pandas as pd\n",
    "import matplotlib.pyplot as plt\n",
    "from mpl_toolkits.mplot3d import Axes3D\n",
    "#import requests as rq\n",
    "#from itertools import combinations"
   ]
  },
  {
   "cell_type": "markdown",
   "metadata": {},
   "source": [
    "### EXERCISE 2\n",
    "\n",
    "#### EXERCISE 2.1"
   ]
  },
  {
   "cell_type": "code",
   "execution_count": 207,
   "metadata": {},
   "outputs": [
    {
     "name": "stdout",
     "output_type": "stream",
     "text": [
      "50\n",
      "[1, 1, 1, 1, 1, 1, 1, 1, 1, 1, 1, 1, 1, 1, 1, 0, 0, 0, 0, 0, 0, 0, 0, 0, 0, 0, 0, 0, 0, 0, 0, 0, 2, 2, 2, 2, 2, 2, 2, 2, 2, 2, 2, 2, 2, 2, 2, 2, 2, 2]\n",
      "[array([47., 48.]), array([15., 16.]), array([82., 83.])]\n"
     ]
    }
   ],
   "source": [
    "def kMeans(D,k,e,mu):\n",
    "    t=0\n",
    "    if mu==None:\n",
    "        mu=[]\n",
    "        min_Di = min(D[:, 0])\n",
    "        max_Di = max(D[:, 0])\n",
    "        min_Dj = min(D[:, 1])\n",
    "        max_Dj = max(D[:, 1])\n",
    "        for _ in range(k):\n",
    "            centroid_i=random.uniform(min_Di,max_Di)\n",
    "            centroid_j=random.uniform(min_Dj,max_Dj)\n",
    "            mu.append([centroid_i,centroid_j])\n",
    "    elif (len(mu)!=k):\n",
    "        print(\"El número de centroides dado no coincide con las k's requeridas\")\n",
    "        return (None)\n",
    "    e_calculated=e+1\n",
    "    mu_previows= [[0,0]for _ in range(len(mu))]\n",
    "\n",
    "    while(e_calculated>e):\n",
    "        final_C=[]\n",
    "        e_guide=0\n",
    "        t+=1\n",
    "        centroid_groups = [[]for _ in range(len(mu))]\n",
    "        for _, point in enumerate(D): \n",
    "            difference_in_point=[]\n",
    "\n",
    "            for _, centroid in enumerate(mu):\n",
    "                difference_in_point.append(math.sqrt(np.linalg.norm(point - centroid)))\n",
    "            nearest_index=np.argmin(difference_in_point)\n",
    "            centroid_groups[nearest_index].append(point)\n",
    "            final_C.append(nearest_index)\n",
    "\n",
    "        for index, centroid_group in enumerate(centroid_groups):\n",
    "            centroid_group_array=np.array(centroid_group)\n",
    "            mean_centroid_group=np.mean(centroid_group_array,axis=0)\n",
    "            mu[index]=mean_centroid_group\n",
    "\n",
    "        for index, centroid_group_calculated in enumerate(mu):\n",
    "            e_guide=e_guide+math.sqrt(np.linalg.norm(centroid_group_calculated - mu_previows[index]))\n",
    "            e_calculated=e_guide\n",
    "        mu_previows=mu.copy()\n",
    "    return (final_C,mu)\n",
    "\n",
    "        \n",
    "\n",
    "D= np.array([\n",
    "    [1, 2],\n",
    "    [3, 4],\n",
    "    [5, 6],\n",
    "    [7, 8],\n",
    "    [9, 10],\n",
    "    [11, 12],\n",
    "    [13, 14],\n",
    "    [15, 16],\n",
    "    [17, 18],\n",
    "    [19, 20],\n",
    "    [21, 22],\n",
    "    [23, 24],\n",
    "    [25, 26],\n",
    "    [27, 28],\n",
    "    [29, 30],\n",
    "    [31, 32],\n",
    "    [33, 34],\n",
    "    [35, 36],\n",
    "    [37, 38],\n",
    "    [39, 40],\n",
    "    [41, 42],\n",
    "    [43, 44],\n",
    "    [45, 46],\n",
    "    [47, 48],\n",
    "    [49, 50],\n",
    "    [51, 52],\n",
    "    [53, 54],\n",
    "    [55, 56],\n",
    "    [57, 58],\n",
    "    [59, 60],\n",
    "    [61, 62],\n",
    "    [63, 64],\n",
    "    [65, 66],\n",
    "    [67, 68],\n",
    "    [69, 70],\n",
    "    [71, 72],\n",
    "    [73, 74],\n",
    "    [75, 76],\n",
    "    [77, 78],\n",
    "    [79, 80],\n",
    "    [81, 82],\n",
    "    [83, 84],\n",
    "    [85, 86],\n",
    "    [87, 88],\n",
    "    [89, 90],\n",
    "    [91, 92],\n",
    "    [93, 94],\n",
    "    [95, 96],\n",
    "    [97, 98],\n",
    "    [99, 100],\n",
    "])\n",
    "\n",
    "C,mu=kMeans(D,3,0.02,None)\n",
    "print(C)\n",
    "print(mu)"
   ]
  },
  {
   "cell_type": "markdown",
   "metadata": {},
   "source": [
    "### EXERCISE 3\n",
    "\n",
    "#### EXERCISE 3.1"
   ]
  },
  {
   "cell_type": "code",
   "execution_count": 1,
   "metadata": {},
   "outputs": [
    {
     "ename": "SyntaxError",
     "evalue": "incomplete input (2406778174.py, line 1)",
     "output_type": "error",
     "traceback": [
      "\u001b[1;36m  Cell \u001b[1;32mIn[1], line 1\u001b[1;36m\u001b[0m\n\u001b[1;33m    def plotClusters(A, C, dimX, dimY, dimZ=None, ax=None):\u001b[0m\n\u001b[1;37m                                                           ^\u001b[0m\n\u001b[1;31mSyntaxError\u001b[0m\u001b[1;31m:\u001b[0m incomplete input\n"
     ]
    }
   ],
   "source": [
    "\n",
    "def plotClusters(A, C, dimX, dimY, dimZ=None, ax=None):\n",
    "    if ax is None:\n",
    "        if dimZ is None:\n",
    "            fig, ax = plt.subplots()\n",
    "        else:\n",
    "            fig = plt.figure()\n",
    "            ax = fig.add_subplot(111, projection='3d')\n",
    "    else:\n",
    "        fig = ax.get_figure()\n",
    "\n",
    "    clusters = set(C)\n",
    "    colors = ['red', 'blue', 'green', 'orange', 'purple', 'brown', 'pink', 'gray', 'cyan', 'magenta']\n",
    "    markers = ['a', 'b', 'c', 'd', 'e', 'f', 'g', 'h', '+', '*']\n",
    "\n",
    "\n",
    "    for cluster in clusters:\n",
    "        indices = [i for i, c in enumerate(C) if c == cluster]\n",
    "        cluster_points = A[indices]\n",
    "        if dimZ is None:\n",
    "            ax.scatter(cluster_points[:, dimX], cluster_points[:, dimY], color=colors[cluster % len(colors)], marker=markers[cluster % len(markers)], label=f'Cluster {cluster}')\n",
    "        else:\n",
    "            ax.scatter(cluster_points[:, dimX], cluster_points[:, dimY], cluster_points[:, dimZ], color=colors[cluster % len(colors)], marker=markers[cluster % len(markers)], label=f'Cluster {cluster}')\n",
    "\n",
    "    if dimZ is None:\n",
    "        ax.set_xlabel(f'Dimension {dimX}')\n",
    "        ax.set_ylabel(f'Dimension {dimY}')\n",
    "    else:\n",
    "        ax.set_xlabel(f'Dimension {dimX}')\n",
    "        ax.set_ylabel(f'Dimension {dimY}')\n",
    "        ax.set_zlabel(f'Dimension {dimZ}')\n",
    "\n",
    "    ax.legend()\n",
    "    plt.show()\n",
    "\n",
    "    return ax\n",
    "  "
   ]
  },
  {
   "cell_type": "markdown",
   "metadata": {},
   "source": [
    "#### EXERCISE 3.2"
   ]
  },
  {
   "cell_type": "code",
   "execution_count": null,
   "metadata": {},
   "outputs": [],
   "source": [
    "#Tha fuck is that?!!"
   ]
  }
 ],
 "metadata": {
  "kernelspec": {
   "display_name": "Python 3",
   "language": "python",
   "name": "python3"
  },
  "language_info": {
   "codemirror_mode": {
    "name": "ipython",
    "version": 3
   },
   "file_extension": ".py",
   "mimetype": "text/x-python",
   "name": "python",
   "nbconvert_exporter": "python",
   "pygments_lexer": "ipython3",
   "version": "3.11.8"
  }
 },
 "nbformat": 4,
 "nbformat_minor": 2
}
