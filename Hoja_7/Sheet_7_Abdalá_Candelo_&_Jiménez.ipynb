{
 "cells": [
  {
   "cell_type": "code",
   "execution_count": 5,
   "metadata": {},
   "outputs": [],
   "source": [
    "import numpy as np\n",
    "import pandas as pd\n",
    "from templateobs import *\n",
    "from itertools import chain, combinations\n",
    "from datetime import datetime\n",
    "import matplotlib.pyplot as plt\n",
    "from mpl_toolkits.mplot3d import Axes3D"
   ]
  },
  {
   "cell_type": "markdown",
   "metadata": {},
   "source": [
    "# Exercise 1"
   ]
  },
  {
   "cell_type": "markdown",
   "metadata": {},
   "source": [
    "# Exercise 2\n"
   ]
  },
  {
   "cell_type": "markdown",
   "metadata": {},
   "source": [
    "## Exercise 2.2"
   ]
  },
  {
   "cell_type": "code",
   "execution_count": null,
   "metadata": {},
   "outputs": [],
   "source": [
    "def filterProductiveRules(D, R):\n",
    "    productive_rules = []\n",
    "    for rule in R:\n",
    "        X, Y, sup_XY, conf_X_Y = rule\n",
    "        lift_XY = lift(D, X, Y)\n",
    "        if conf_X_Y > lift_XY: #Mi pregunta es si es esto es asi o no\n",
    "            productive_rules.append(rule)\n",
    "    return productive_rules\n"
   ]
  },
  {
   "cell_type": "markdown",
   "metadata": {},
   "source": [
    "## Exercise 2.3"
   ]
  },
  {
   "cell_type": "code",
   "execution_count": null,
   "metadata": {},
   "outputs": [],
   "source": [
    "R = getStrongRules(read_database(\"shop.dat\"), 500, 0.95)\n",
    "\n",
    "productive_rules = filterProductiveRules(\"shop.dat\", R)\n",
    "\n",
    "df = pd.DataFrame(productive_rules, columns=['X', 'Y', 'sup(XY)', 'conf(X -> Y)'])\n",
    "\n",
    "metrics = ['sup(XY)', 'conf(X -> Y)', 'lift(X -> Y)', 'leverage(X -> Y)', 'jaccard(X -> Y)', 'conviction(X -> Y)', 'oddsRatio(X -> Y)', 'imp(X -> Y)']\n",
    "\n",
    "for i in range(len(metrics)):\n",
    "    for j in range(i+1, len(metrics)):\n",
    "        for k in range(j+1, len(metrics)):\n",
    "            fig = plt.figure(figsize=(10, 8))\n",
    "            ax = fig.add_subplot(111, projection='3d')\n",
    "            ax.scatter(df[metrics[i]], df[metrics[j]], df[metrics[k]])\n",
    "\n",
    "            ax.set_xlabel(metrics[i])\n",
    "            ax.set_ylabel(metrics[j])\n",
    "            ax.set_zlabel(metrics[k])\n",
    "\n",
    "            for idx, row in df.iterrows():\n",
    "                ax.text(row[metrics[i]], row[metrics[j]], row[metrics[k]], str(idx))\n",
    "\n",
    "            plt.title(f\"3D Scatter Plot of {metrics[i]}, {metrics[j]}, and {metrics[k]}\")\n",
    "            plt.show()\n"
   ]
  }
 ],
 "metadata": {
  "kernelspec": {
   "display_name": "Python 3",
   "language": "python",
   "name": "python3"
  },
  "language_info": {
   "codemirror_mode": {
    "name": "ipython",
    "version": 3
   },
   "file_extension": ".py",
   "mimetype": "text/x-python",
   "name": "python",
   "nbconvert_exporter": "python",
   "pygments_lexer": "ipython3",
   "version": "3.11.9"
  }
 },
 "nbformat": 4,
 "nbformat_minor": 2
}
