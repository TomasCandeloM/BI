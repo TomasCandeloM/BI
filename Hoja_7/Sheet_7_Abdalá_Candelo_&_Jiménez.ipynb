{
 "cells": [
  {
   "cell_type": "code",
   "execution_count": 138,
   "metadata": {},
   "outputs": [],
   "source": [
    "import numpy as np\n",
    "import pandas as pd\n",
    "#from templateobs import *\n",
    "from itertools import chain, combinations\n",
    "from datetime import datetime\n",
    "import matplotlib.pyplot as plt\n",
    "from mpl_toolkits.mplot3d import Axes3D"
   ]
  },
  {
   "cell_type": "markdown",
   "metadata": {},
   "source": [
    "# Exercise 1"
   ]
  },
  {
   "cell_type": "markdown",
   "metadata": {},
   "source": [
    "# Exercise 2\n"
   ]
  },
  {
   "cell_type": "markdown",
   "metadata": {},
   "source": [
    "## Exercise 2.1"
   ]
  },
  {
   "cell_type": "code",
   "execution_count": 139,
   "metadata": {},
   "outputs": [],
   "source": [
    "example_database=[[\"A\",\"B\",\"D\",\"E\"],\n",
    "                  [\"B\",\"C\",\"E\"],\n",
    "                  [\"A\",\"B\",\"D\",\"E\"],  \n",
    "                  [\"A\",\"B\",\"C\",\"E\"],\n",
    "                  [\"A\",\"B\",\"C\",\"D\",\"E\"],\n",
    "                  [\"B\",\"C\",\"D\"]]\n",
    "example_premis=[\"E\",\"B\"]\n",
    "example_conclusion=[\"D\"]\n",
    "metrics = [\"sup\", \"conf\", \"lift\", \"leverage\", \"jaccard\", \"conviction\", \"oddsratio\", \"imp\"]\n"
   ]
  },
  {
   "cell_type": "code",
   "execution_count": 140,
   "metadata": {},
   "outputs": [],
   "source": [
    "def sup(D, X, Y=None):\n",
    "    complete_rule_items = X.copy()\n",
    "    support = 0\n",
    "    if Y is None:\n",
    "        for transaction in D:\n",
    "            if all(item in transaction for item in X):\n",
    "                support += 1\n",
    "    else:\n",
    "        complete_rule_items.extend(Y)\n",
    "        for transaction in D:\n",
    "            if all(item in transaction for item in complete_rule_items):\n",
    "                support += 1\n",
    "    return support"
   ]
  },
  {
   "cell_type": "code",
   "execution_count": 141,
   "metadata": {},
   "outputs": [],
   "source": [
    "def conf(D,X,Y):\n",
    "    pre_support=0\n",
    "    complete_rule_support=0\n",
    "    for transaction in D:\n",
    "        if all(item in transaction for item in X):\n",
    "            pre_support+=1\n",
    "            if all(item in transaction for item in Y):\n",
    "                complete_rule_support+=1\n",
    "    confidence=complete_rule_support/pre_support\n",
    "    return confidence"
   ]
  },
  {
   "cell_type": "code",
   "execution_count": 142,
   "metadata": {},
   "outputs": [],
   "source": [
    "def lift(D, X, Y=None):\n",
    "    if Y is None:\n",
    "        Y=X.copy()\n",
    "    supports = [0, 0, 0]\n",
    "    for transaction in D:\n",
    "        if all(item in transaction for item in X):\n",
    "            supports[0] += 1\n",
    "            if all(item in transaction for item in Y):\n",
    "                supports[2] += 1\n",
    "        if all(item in transaction for item in Y):\n",
    "            supports[1] += 1\n",
    "    r_supports = list(map(lambda x: x / len(D), supports))\n",
    "    if 0 in r_supports:\n",
    "        return None\n",
    "    else:\n",
    "        final_lift = r_supports[2] / (r_supports[0] * r_supports[1])\n",
    "        return final_lift"
   ]
  },
  {
   "cell_type": "code",
   "execution_count": 143,
   "metadata": {},
   "outputs": [],
   "source": [
    "def leverage(D,X,Y):\n",
    "    supports=[0,0,0]\n",
    "    for transaction in D:\n",
    "        if all(item in transaction for item in X):\n",
    "            supports[0]+=1\n",
    "            if all(item in transaction for item in Y):\n",
    "                supports[2]+=1\n",
    "        if all(item in transaction for item in Y):\n",
    "            supports[1]+=1\n",
    "    r_supports=list(map(lambda x: x/len(D), supports))\n",
    "    final_leverage=r_supports[2]-r_supports[0]*r_supports[1]\n",
    "    return(final_leverage)"
   ]
  },
  {
   "cell_type": "code",
   "execution_count": 144,
   "metadata": {},
   "outputs": [],
   "source": [
    "def jaccard(D,X,Y):\n",
    "    #0->X\t1->Y\t2->XY\n",
    "    supports=[0,0,0]\n",
    "    for transaction in D:\n",
    "        if all(item in transaction for item in X):\n",
    "            supports[0]+=1\n",
    "            if all(item in transaction for item in Y):\n",
    "                supports[2]+=1\n",
    "        if all(item in transaction for item in Y):\n",
    "            supports[1]+=1\n",
    "    r_supports=list(map(lambda x: x/len(D), supports))\n",
    "    final_jaccard=(r_supports[2])/(r_supports[0]+r_supports[1]-r_supports[2])\n",
    "    return(final_jaccard)"
   ]
  },
  {
   "cell_type": "code",
   "execution_count": 145,
   "metadata": {},
   "outputs": [],
   "source": [
    "def conviction(D,X,Y):\n",
    "    support_y=0\n",
    "    for transaction in D:\n",
    "        if all(item in transaction for item in Y):\n",
    "            support_y+=1\n",
    "    r_support_y=support_y/len(D)\n",
    "    confidence_xy=conf(D,X,Y)\n",
    "    if confidence_xy>=1:\n",
    "        return None\n",
    "    else:\n",
    "        final_conviction=(1-r_support_y)/(1-confidence_xy)\n",
    "        return(final_conviction)"
   ]
  },
  {
   "cell_type": "code",
   "execution_count": 146,
   "metadata": {},
   "outputs": [],
   "source": [
    "def oddsRatio(D,X,Y):\n",
    "    #0->XY\t1->X¬Y\t2->¬XY\t3->¬X¬Y\n",
    "    supports=[0,0,0,0]\n",
    "    for transaction in D:\n",
    "        if all(item in transaction for item in X):\n",
    "            if all(item in transaction for item in Y):\n",
    "                supports[0]+=1\n",
    "            else:\n",
    "                supports[1]+=1\n",
    "        else:\n",
    "            if all(item in transaction for item in Y):\n",
    "                supports[2]+=1\n",
    "            else:\n",
    "                supports[3]+=1\n",
    "    final_odds_ratio=((supports[0]+1)*(supports[3]+1))/((supports[1]+1)*(supports[2]+1))\n",
    "    return(final_odds_ratio)"
   ]
  },
  {
   "cell_type": "code",
   "execution_count": 147,
   "metadata": {},
   "outputs": [],
   "source": [
    "def imp(D,X,Y):\n",
    "    if len(X) < 2:\n",
    "        return 0\n",
    "    else:\n",
    "        w_conf=[]\n",
    "        conf_xy=conf(D,X,Y)\n",
    "        for W in X:\n",
    "            w_conf.append(conf(D,W,Y))\n",
    "        final_improvement=conf_xy-max(w_conf)\n",
    "        return final_improvement"
   ]
  },
  {
   "cell_type": "code",
   "execution_count": 148,
   "metadata": {},
   "outputs": [
    {
     "name": "stdout",
     "output_type": "stream",
     "text": [
      "Premisa: ['E', 'B']\n",
      "Conclusión:['D']\n",
      "\n",
      "sup: 3\n",
      "conf: 0.6\n",
      "lift: 0.8999999999999999\n",
      "leverage: -0.05555555555555558\n",
      "jaccard: 0.5\n",
      "conviction: 0.8333333333333334\n",
      "oddsratio: 0.6666666666666666\n",
      "imp: -0.06666666666666665\n"
     ]
    }
   ],
   "source": [
    "def getRuleMetric(D,X,Y,metric):\n",
    "    if metric == \"sup\":\n",
    "        return sup(D,X,Y)\n",
    "    elif metric == \"conf\":\n",
    "        return conf(D,X,Y)\n",
    "    elif metric == \"lift\":\n",
    "        return lift(D,X,Y)\n",
    "    elif metric == \"leverage\":\n",
    "        return leverage(D,X,Y)\n",
    "    elif metric == \"jaccard\":\n",
    "        return jaccard(D,X,Y)\n",
    "    elif metric == \"conviction\":\n",
    "        return conviction(D,X,Y)\n",
    "    elif metric == \"oddsratio\":\n",
    "        return oddsRatio(D,X,Y)\n",
    "    elif metric == \"imp\":\n",
    "        return imp(D,X,Y)\n",
    "    else:\n",
    "        return \"metrica invalida\"\n",
    "    \n",
    "print(f\"Premisa: {example_premis}\\nConclusión:{example_conclusion}\\n\")\n",
    "for metric in metrics:\n",
    "    result= getRuleMetric(example_database,example_premis,example_conclusion,metric)\n",
    "    print(f\"{metric}: {result}\")"
   ]
  },
  {
   "cell_type": "markdown",
   "metadata": {},
   "source": [
    "## Exercise 2.2"
   ]
  },
  {
   "cell_type": "code",
   "execution_count": 149,
   "metadata": {},
   "outputs": [],
   "source": [
    "def filterProductiveRules(D, R):\n",
    "    productive_rules = []\n",
    "    for rule in R:\n",
    "        X, Y, sup_XY, conf_X_Y = rule\n",
    "        imp_XY = imp(D, X, Y)\n",
    "        if imp_XY > 0:\n",
    "            productive_rules.append(rule)\n",
    "    return productive_rules\n"
   ]
  },
  {
   "cell_type": "markdown",
   "metadata": {},
   "source": [
    "## Exercise 2.3"
   ]
  },
  {
   "cell_type": "code",
   "execution_count": 150,
   "metadata": {},
   "outputs": [
    {
     "ename": "NameError",
     "evalue": "name 'getStrongRules' is not defined",
     "output_type": "error",
     "traceback": [
      "\u001b[1;31m---------------------------------------------------------------------------\u001b[0m",
      "\u001b[1;31mNameError\u001b[0m                                 Traceback (most recent call last)",
      "Cell \u001b[1;32mIn[150], line 1\u001b[0m\n\u001b[1;32m----> 1\u001b[0m R \u001b[38;5;241m=\u001b[39m \u001b[43mgetStrongRules\u001b[49m(read_database(\u001b[38;5;124m\"\u001b[39m\u001b[38;5;124mshop.dat\u001b[39m\u001b[38;5;124m\"\u001b[39m), \u001b[38;5;241m500\u001b[39m, \u001b[38;5;241m0.95\u001b[39m)\n\u001b[0;32m      3\u001b[0m productive_rules \u001b[38;5;241m=\u001b[39m filterProductiveRules(\u001b[38;5;124m\"\u001b[39m\u001b[38;5;124mshop.dat\u001b[39m\u001b[38;5;124m\"\u001b[39m, R)\n\u001b[0;32m      5\u001b[0m df \u001b[38;5;241m=\u001b[39m pd\u001b[38;5;241m.\u001b[39mDataFrame(productive_rules, columns\u001b[38;5;241m=\u001b[39m[\u001b[38;5;124m'\u001b[39m\u001b[38;5;124mX\u001b[39m\u001b[38;5;124m'\u001b[39m, \u001b[38;5;124m'\u001b[39m\u001b[38;5;124mY\u001b[39m\u001b[38;5;124m'\u001b[39m, \u001b[38;5;124m'\u001b[39m\u001b[38;5;124msup(XY)\u001b[39m\u001b[38;5;124m'\u001b[39m, \u001b[38;5;124m'\u001b[39m\u001b[38;5;124mconf(X -> Y)\u001b[39m\u001b[38;5;124m'\u001b[39m])\n",
      "\u001b[1;31mNameError\u001b[0m: name 'getStrongRules' is not defined"
     ]
    }
   ],
   "source": [
    "R = getStrongRules(read_database(\"shop.dat\"), 500, 0.95)\n",
    "\n",
    "productive_rules = filterProductiveRules(\"shop.dat\", R)\n",
    "\n",
    "df = pd.DataFrame(productive_rules, columns=['X', 'Y', 'sup(XY)', 'conf(X -> Y)'])\n",
    "\n",
    "metrics = ['sup(XY)', 'conf(X -> Y)', 'lift(X -> Y)', 'leverage(X -> Y)', 'jaccard(X -> Y)', 'conviction(X -> Y)', 'oddsRatio(X -> Y)', 'imp(X -> Y)']\n",
    "\n",
    "for i in range(len(metrics)):\n",
    "    for j in range(i+1, len(metrics)):\n",
    "        for k in range(j+1, len(metrics)):\n",
    "            fig = plt.figure(figsize=(10, 8))\n",
    "            ax = fig.add_subplot(111, projection='3d')\n",
    "            ax.scatter(df[metrics[i]], df[metrics[j]], df[metrics[k]])\n",
    "\n",
    "            ax.set_xlabel(metrics[i])\n",
    "            ax.set_ylabel(metrics[j])\n",
    "            ax.set_zlabel(metrics[k])\n",
    "\n",
    "            for idx, row in df.iterrows():\n",
    "                ax.text(row[metrics[i]], row[metrics[j]], row[metrics[k]], str(idx))\n",
    "\n",
    "            plt.title(f\"3D Scatter Plot of {metrics[i]}, {metrics[j]}, and {metrics[k]}\")\n",
    "            plt.show()\n"
   ]
  }
 ],
 "metadata": {
  "kernelspec": {
   "display_name": "Python 3",
   "language": "python",
   "name": "python3"
  },
  "language_info": {
   "codemirror_mode": {
    "name": "ipython",
    "version": 3
   },
   "file_extension": ".py",
   "mimetype": "text/x-python",
   "name": "python",
   "nbconvert_exporter": "python",
   "pygments_lexer": "ipython3",
   "version": "3.12.1"
  }
 },
 "nbformat": 4,
 "nbformat_minor": 2
}
